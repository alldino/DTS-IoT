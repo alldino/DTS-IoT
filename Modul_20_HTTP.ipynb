{
  "nbformat": 4,
  "nbformat_minor": 0,
  "metadata": {
    "colab": {
      "name": "Modul 20 - HTTP.ipynb",
      "version": "0.3.2",
      "provenance": [],
      "collapsed_sections": [],
      "include_colab_link": true
    },
    "kernelspec": {
      "name": "python3",
      "display_name": "Python 3"
    }
  },
  "cells": [
    {
      "cell_type": "markdown",
      "metadata": {
        "id": "view-in-github",
        "colab_type": "text"
      },
      "source": [
        "<a href=\"https://colab.research.google.com/github/alldino/DTS-IoT/blob/master/Modul_20_HTTP.ipynb\" target=\"_parent\"><img src=\"https://colab.research.google.com/assets/colab-badge.svg\" alt=\"Open In Colab\"/></a>"
      ]
    },
    {
      "cell_type": "markdown",
      "metadata": {
        "id": "p94uFyR-vsDK",
        "colab_type": "text"
      },
      "source": [
        "# Modul 20 - HTTP\n",
        "\n",
        "---\n",
        "\n"
      ]
    },
    {
      "cell_type": "markdown",
      "metadata": {
        "id": "RYIShSbXvuv6",
        "colab_type": "text"
      },
      "source": [
        "## 20.1 Pendahuluan \n",
        "\n",
        "---\n",
        "\n",
        "\n",
        "\n",
        "HTTP adalah protokol dasar yang digunakan oleh World Wide Web dan protokol ini menentukan bagaimana pesan diformat dan dikirim, dan tindakan apa yang harus dilakukan oleh server dan browser Web sebagai tanggapan terhadap berbagai perintah. Dengan bantuan HTTP, kami mencari lebih banyak fungsi terkait web seperti melayani halaman web HTML, mengarahkan ulang, dan menangani tidak ditemukan. Pada bab selanjutnya, metode HTTP dijelaskan tentang GET dan POST."
      ]
    },
    {
      "cell_type": "markdown",
      "metadata": {
        "id": "JLUovPOQwvDH",
        "colab_type": "text"
      },
      "source": [
        "## 20.2 Mengirim Teks ke Client\n",
        "\n",
        "---\n",
        "\n",
        "\n",
        "\n",
        "Server web membutuhkan pustaka <ESP8266WebServer.h>. Objeknya didefinisikan menggunakan server \n",
        "\n",
        "```\n",
        "ESP8266WebServer (80);\n",
        "```\n",
        "\n",
        "Setelah mendefinisikan objek dalam pengaturan, tentukan fungsi untuk menangani permintaan web yang ada pada root.\n",
        "```\n",
        "server.on (\"/\", handleRoot);\n",
        "```\n",
        "Karekter \"/\" mewakili lokasi root yaitu alamat IP, setelah itu mulai server web menggunakan \n",
        "\n",
        "```\n",
        "server.begin ();\n",
        "```\n",
        "\n",
        "Dalam fungsi loop, kita harus menangani permintaan klien menggunakan \n",
        "```\n",
        "server.handleClient ();\n",
        "```\n",
        "Berfungsi untuk menangani permintaan klien, yaitu handleRoot, dengan mengirim teks biasa ke browser web. \n",
        "\n",
        "Kode 200 adalah respons OK\n"
      ]
    },
    {
      "cell_type": "code",
      "metadata": {
        "id": "hhMFFq8cyD5z",
        "colab_type": "code",
        "colab": {}
      },
      "source": [
        "//Handles http request \n",
        "void handleRoot() { \n",
        "  digitalWrite(2, 0);   //Blinks on board led on page request \n",
        "  server.send(200, \"text/plain\", \"hello from esp8266!\"); \n",
        "  digitalWrite(2, 1); \n",
        "}"
      ],
      "execution_count": 0,
      "outputs": []
    },
    {
      "cell_type": "markdown",
      "metadata": {
        "id": "R-C223ciyWi3",
        "colab_type": "text"
      },
      "source": [
        "### 20.2.1  Praktikum #1 - Program untuk Mengirim Teks\n",
        "\n",
        "---\n",
        "\n",
        "\n",
        "\n",
        "Gantilah Wi-Fi-name dan Wi-Fi-password sesuai dengan konfigurasi dari Wi-Fi router yang digunakan."
      ]
    },
    {
      "cell_type": "code",
      "metadata": {
        "id": "rAh7xLwBzGlT",
        "colab_type": "code",
        "colab": {}
      },
      "source": [
        "/* \n",
        " *  ESP8266 Communication and Protocols \n",
        " *  HTTP plain text \n",
        " *  -Manoj R. Thakur \n",
        " */ \n",
        "  \n",
        "#include <ESP8266WiFi.h> \n",
        "#include <ESP8266WebServer.h> \n",
        "#include <ESP8266mDNS.h> \n",
        "  \n",
        "const char* wifiName = \"Wi-Fi-name\"; \n",
        "const char* wifiPass = \"Wi-Fi-password\"; \n",
        "  \n",
        "ESP8266WebServer server(80);  //Define server object \n",
        "  \n",
        "//Handles http request \n",
        "void handleRoot() {\n",
        "      digitalWrite(2, 0);   //Blinks on board led on page request \n",
        "  server.send(200, \"text/plain\", \"hello from esp8266!\"); \n",
        "  digitalWrite(2, 1); \n",
        "} \n",
        "  \n",
        "  \n",
        "// the setup function runs once when you press reset or power the board \n",
        "void setup() { \n",
        "  \n",
        "  Serial.begin(115200); \n",
        "  delay(10); \n",
        "  pinMode(2,OUTPUT); \n",
        "  Serial.println(); \n",
        "  \n",
        "  Serial.print(\"Connecting\"); \n",
        "  \n",
        "  WiFi.begin(wifiName, wifiPass);   //Connect to Wi-Fi \n",
        "  \n",
        "  while (WiFi.status() != WL_CONNECTED) { \n",
        "    delay(500); \n",
        "    Serial.print(\".\"); \n",
        "  }\n",
        "    Serial.println(\"\"); \n",
        "  Serial.println(\"Wi-Fi connected\"); \n",
        "  Serial.println(\"IP address: \"); \n",
        "  Serial.println(WiFi.localIP());   //You can get IP address assigned to ESP \n",
        "  \n",
        "  server.on(\"/\", handleRoot);      //Associate handler function to web requests \n",
        "  \n",
        "  server.begin(); //Start web server \n",
        "  Serial.println(\"HTTP server started\"); \n",
        "} \n",
        "  \n",
        "void loop() { \n",
        "  //Handle Clinet requests \n",
        "  server.handleClient(); \n",
        "}"
      ],
      "execution_count": 0,
      "outputs": []
    },
    {
      "cell_type": "markdown",
      "metadata": {
        "id": "5REMuOapzVLc",
        "colab_type": "text"
      },
      "source": [
        "Unggah program dan buka serial monitor."
      ]
    },
    {
      "cell_type": "markdown",
      "metadata": {
        "id": "FwEr4R5Czr-t",
        "colab_type": "text"
      },
      "source": [
        "### 20.2.2  Hasil Praktikum #1\n",
        "\n",
        "---\n",
        "\n",
        "\n",
        "\n",
        "Dapatkan alamat IP NodeMCU dan kemudian buka di browser web laptop yang terhubung ke Jaringan Wi-Fi yang sama. Ini akan menampilkan \"halo dari esp8266!\". Perhatikan juga pada LED biru bawaan, itu akan berkedip setiap kali Anda meminta halaman web dari browser web.\n",
        "\n",
        "![alt text](https://github.com/alldino/DTS-IoT/blob/master/image/20.2.2.1.png?raw=true)\n",
        "\n",
        "![alt text](https://github.com/alldino/DTS-IoT/blob/master/image/20.2.2.2.png?raw=true)\n",
        "\n"
      ]
    },
    {
      "cell_type": "markdown",
      "metadata": {
        "id": "7hhs2wEQ2Uh9",
        "colab_type": "text"
      },
      "source": [
        "## 20.3  Halaman Web HTML\n",
        "\n",
        "---\n",
        "\n",
        "Konfigurasi Server halaman web HTML sama seperti yang digunakan dalam pada bagian sebelumnya. Hanya bedanya adalah bagaimana kita menangani halaman web, yaitu handleRoot. Kita gunakan\n",
        "```\n",
        "server.send (200, \"text / html\", htmlPage);\n",
        "```\n",
        "\"*HtmlPage*\" adalah variabel \"*String*\" yang berisi kode halaman web HTML.\n",
        "\n"
      ]
    },
    {
      "cell_type": "markdown",
      "metadata": {
        "id": "eEThPdmy3SYZ",
        "colab_type": "text"
      },
      "source": [
        "### 20.3.1  Praktikum #2 - Program HTTP Halaman Web HTML\n",
        "\n",
        "---\n",
        "\n",
        "Gantilah Wi-Fi-name dan Wi-Fi-password sesuai dengan konfigurasi dari Wi-Fi router yang digunakan."
      ]
    },
    {
      "cell_type": "code",
      "metadata": {
        "id": "Fn3UoPfV3i4B",
        "colab_type": "code",
        "colab": {}
      },
      "source": [
        "/* \n",
        " *  ESP8266 Communication and Protocols \n",
        " *  HTML Web Page Example \n",
        " *  -Manoj R. Thakur \n",
        " */ \n",
        "  \n",
        "#include <ESP8266WiFi.h> \n",
        "#include <ESP8266WebServer.h> \n",
        "#include <ESP8266mDNS.h> \n",
        "  \n",
        "const char* wifiName = \"Wi-Fi-name\"; \n",
        "const char* wifiPass = \"Wi-Fi-password\"; \n",
        "  \n",
        "ESP8266WebServer server(80);  //Define server object \n",
        "  \n",
        "const char htmlPage[] PROGMEM = R\"=====(\n",
        "<HTML> \n",
        "  <HEAD> \n",
        "      <TITLE>My first web page</TITLE> \n",
        "  </HEAD> \n",
        "<BODY> \n",
        "  <CENTER> \n",
        "      <B>Hello World.... </B>      \n",
        "  </CENTER> \n",
        "  <marquee behavior=\"alternate\">NodeMCU ESP8266 Communication Methods and Protocols</marquee> \n",
        "</BODY> \n",
        "</HTML> \n",
        ")=====\"; \n",
        "  \n",
        "//Handles http request \n",
        "void handleRoot() { \n",
        "  digitalWrite(2, 0);   //Blinks on board led on page request \n",
        "  server.send(200, \"text/html\", htmlPage); \n",
        "  digitalWrite(2, 1); \n",
        "}\n",
        "\n",
        "// the setup function runs once when you press reset or power the board \n",
        "void setup() { \n",
        "  \n",
        "  Serial.begin(115200); \n",
        "  delay(10); \n",
        "  pinMode(2,OUTPUT); \n",
        "  Serial.println(); \n",
        "  \n",
        "  Serial.print(\"Connecting\"); \n",
        "  \n",
        "  WiFi.begin(wifiName, wifiPass);   //Connect to Wi-Fi \n",
        "  \n",
        "  while (WiFi.status() != WL_CONNECTED) { \n",
        "    delay(500); \n",
        "    Serial.print(\".\"); \n",
        "  } \n",
        "  \n",
        "  Serial.println(\"\"); \n",
        "  Serial.println(\"Wi-Fi connected\"); \n",
        "  Serial.println(\"IP address: \"); \n",
        "  Serial.println(WiFi.localIP());   //You can get IP address assigned to ESP\n",
        "  \n",
        "  server.on(\"/\", handleRoot);      //Associate handler function to web requests \n",
        "  \n",
        "  server.begin(); //Start web server \n",
        "  Serial.println(\"HTTP server started\"); \n",
        "} \n",
        "  \n",
        "void loop() { \n",
        "  //Handle Clinet requests \n",
        "  server.handleClient(); \n",
        "}"
      ],
      "execution_count": 0,
      "outputs": []
    },
    {
      "cell_type": "markdown",
      "metadata": {
        "id": "PwXxgFGN353c",
        "colab_type": "text"
      },
      "source": [
        "Unggah program dan buka serial monitor."
      ]
    },
    {
      "cell_type": "markdown",
      "metadata": {
        "id": "k2nSjkKj3_qk",
        "colab_type": "text"
      },
      "source": [
        "### 20.3.2  Hasil Praktikum #2\n",
        "\n",
        "---\n",
        "\n",
        "Dapatkan alamat IP dari serial monitor  dan buka di browser web. Ubah kode program untuk menggunakan mDNS.\n",
        "\n",
        "![alt text](https://github.com/alldino/DTS-IoT/blob/master/image/20.3.2.1.png?raw=true)\n",
        "\n"
      ]
    },
    {
      "cell_type": "markdown",
      "metadata": {
        "id": "VrdHsaoG4eL_",
        "colab_type": "text"
      },
      "source": [
        "## 20.4  Redirect dan Handle Not Found\n",
        "\n",
        "---\n",
        "\n",
        "\n",
        "\n",
        "Redirect (pengalihan) bermanfaat saat menggunakan formulir web. Pengalihan sisi server adalah metode pengalihan URL menggunakan kode status HTTP (mis., 301 Dipindahkan secara Permanen, 303 Lihat Lainnya dan 307 Pengalihan Sementara) yang dikeluarkan oleh server web sebagai tanggapan terhadap permintaan URL tertentu. Hasilnya adalah mengarahkan browser web pengguna ke halaman web lain dengan URL yang berbeda\n",
        "Mirip dengan contoh sebelumnya, di sini server ada di dua lokasi yaitu root dan handleNotFound."
      ]
    },
    {
      "cell_type": "code",
      "metadata": {
        "id": "4UEUbGzW_LLx",
        "colab_type": "code",
        "colab": {}
      },
      "source": [
        "//Initialize Webserver \n",
        "  server.on(\"/\",handleRoot); \n",
        "  server.onNotFound(handleNotFound); //Handles Not found links \n",
        "  server.begin();"
      ],
      "execution_count": 0,
      "outputs": []
    },
    {
      "cell_type": "markdown",
      "metadata": {
        "id": "WWy-VsF-_Q_H",
        "colab_type": "text"
      },
      "source": [
        "### 20.4.1  Program untuk Handling Not Found dan Redirect\n",
        "\n",
        "---\n",
        "\n",
        "\n",
        "\n",
        "Program ini berisi contoh redirect dan custom Not Found. Ubah subrutin handleNotFound.\n",
        "\n",
        "1.  Redirect tautan yang tidak berfungsi"
      ]
    },
    {
      "cell_type": "code",
      "metadata": {
        "id": "0OI5Q7vPBfLK",
        "colab_type": "code",
        "colab": {}
      },
      "source": [
        "void handleNotFound() { \n",
        "  server.sendHeader(\"Location\", \"/\",true); //Redirect to our html web page \n",
        "  \n",
        "  server.send(302, \"text/plane\",\"\");  //302 is redirect \n",
        "} "
      ],
      "execution_count": 0,
      "outputs": []
    },
    {
      "cell_type": "markdown",
      "metadata": {
        "id": "Gyr34uQ1BhoC",
        "colab_type": "text"
      },
      "source": [
        "2.  Redirect Custom Pesan Error 404"
      ]
    },
    {
      "cell_type": "code",
      "metadata": {
        "id": "IL3J528qBs5S",
        "colab_type": "code",
        "colab": {}
      },
      "source": [
        "//Handles http request \n",
        "void handleNotFound() { \n",
        "  //Use this for custom messages for Error 404 \n",
        "  digitalWrite(2, 0);   //Blinks on board led on page request \n",
        "  server.send(200, \"text/html\", htmlNotFoundPage); \n",
        "  digitalWrite(2, 1); \n",
        "}"
      ],
      "execution_count": 0,
      "outputs": []
    },
    {
      "cell_type": "markdown",
      "metadata": {
        "id": "OBoJZB7xBw1s",
        "colab_type": "text"
      },
      "source": [
        "### 20.4.2  Praktikum #3 - Program untuk Handling Not Found dan Redirect\n",
        "\n",
        "---\n",
        "\n",
        "Gantilah Wi-Fi-name dan Wi-Fi-password sesuai dengan konfigurasi dari Wi-Fi router yang digunakan."
      ]
    },
    {
      "cell_type": "code",
      "metadata": {
        "id": "wKlyZcUVCKji",
        "colab_type": "code",
        "colab": {}
      },
      "source": [
        "/* \n",
        " *  ESP8266 Communication and Protocols \n",
        " *  HTTP redirect \n",
        " *  -Manoj R. Thakur \n",
        " */ \n",
        "  \n",
        "#include <ESP8266WiFi.h> \n",
        "#include <ESP8266WebServer.h> \n",
        "#include <ESP8266mDNS.h> \n",
        "  \n",
        "const char* wifiName = \"Wi-Fi-name\"; \n",
        "const char* wifiPass = \"Wi-Fi-password\"; \n",
        "  \n",
        "ESP8266WebServer server(80);  //Define server object \n",
        "  \n",
        "const char htmlPage[] PROGMEM = R\"=====( \n",
        "<HTML> \n",
        "  <HEAD>\n",
        "        <TITLE>My first web page</TITLE> \n",
        "  </HEAD> \n",
        "<BODY> \n",
        "  <CENTER> \n",
        "      <B>Hello World.... </B>      \n",
        "  </CENTER> \n",
        "  <marquee behavior=\"alternate\">NodeMCU ESP8266 Communication Methods and Protocols</marquee> \n",
        "  <a href=\"/nopage/xyz.html\">Broken Link</a> \n",
        "</BODY> \n",
        "</HTML> \n",
        ")=====\"; \n",
        "  \n",
        "const char htmlNotFoundPage[] = R\"=====( \n",
        "<HTML> \n",
        "  <HEAD> \n",
        "      <TITLE>Error 404</TITLE> \n",
        "  </HEAD> \n",
        "<BODY> \n",
        "  <CENTER> \n",
        "    This is custom 404 page \n",
        "      <H1>Error 404: The webpage you were trying to reach could not be found on the server</H1>     \n",
        "          </CENTER> \n",
        "  <marquee behavior=\"alternate\">NodeMCU ESP8266 Communication Methods and Protocols</marquee> \n",
        "  <a href=\"/\">Go back to home</a> \n",
        "</BODY> \n",
        "</HTML> \n",
        ")=====\"; \n",
        "  \n",
        "//Handles http request \n",
        "void handleRoot() { \n",
        "  digitalWrite(2, 0);   //Blinks on board led on page request \n",
        "  server.send(200, \"text/html\", htmlPage); \n",
        "  digitalWrite(2, 1); \n",
        "} \n",
        "  \n",
        "//Handles http request \n",
        "void handleNotFound() { \n",
        "  \n",
        "  server.sendHeader(\"Location\", \"/\",true); //Redirect to our html web page \n",
        "  server.send(302, \"text/plane\",\"\");  //302 is redirect \n",
        "  \n",
        "  /*\n",
        "      //Use this for custom messages for Error 404 \n",
        "  digitalWrite(2, 0);   //Blinks on board led on page request \n",
        "  server.send(200, \"text/html\", htmlNotFoundPage); \n",
        "  digitalWrite(2, 1); \n",
        "  */ \n",
        "} \n",
        "  \n",
        "// the setup function runs once when you press reset or power the board \n",
        "void setup() { \n",
        "  \n",
        "  Serial.begin(115200); \n",
        "  delay(10); \n",
        "  pinMode(2,OUTPUT); \n",
        "  Serial.println(); \n",
        "  \n",
        "  Serial.print(\"Connecting\"); \n",
        "  \n",
        "  WiFi.begin(wifiName, wifiPass);   //Connect to Wi-Fi \n",
        "  \n",
        "  while (WiFi.status() != WL_CONNECTED) { \n",
        "    delay(500); \n",
        "    Serial.print(\".\");\n",
        "  } \n",
        "  \n",
        "  Serial.println(\"\"); \n",
        "  Serial.println(\"Wi-Fi connected\"); \n",
        "  Serial.println(\"IP address: \"); \n",
        "  Serial.println(WiFi.localIP());   //You can get IP address assigned to ESP \n",
        "  \n",
        "  server.on(\"/\", handleRoot);      //Associate handler function to web requests \n",
        "  server.onNotFound(handleNotFound); //Handle not found links \n",
        "  \n",
        "  server.begin(); //Start web server \n",
        "  Serial.println(\"HTTP server started\"); \n",
        "} \n",
        "  \n",
        "void loop() { \n",
        "  //Handle Clinet requests \n",
        "  server.handleClient(); \n",
        "}"
      ],
      "execution_count": 0,
      "outputs": []
    },
    {
      "cell_type": "markdown",
      "metadata": {
        "id": "6hqxYSucCwp2",
        "colab_type": "text"
      },
      "source": [
        "### 20.4.3  Hasil Praktikum #3\n",
        "\n",
        "---\n",
        "\n",
        "Dapatkan alamat IP dari serial monitor dan buka di browser web."
      ]
    },
    {
      "cell_type": "markdown",
      "metadata": {
        "id": "trEvHiyrDhmo",
        "colab_type": "text"
      },
      "source": [
        "#### Program 1: Redirect\n",
        "\n",
        "Dalam program redirect ketika tautan yang rusak diklik, halaman kembali ke lokasi root lagi.\n",
        "\n",
        "![alt text](https://github.com/alldino/DTS-IoT/blob/master/image/20.4.2.1.png?raw=true)"
      ]
    },
    {
      "cell_type": "markdown",
      "metadata": {
        "id": "4MgZ50f_DyRl",
        "colab_type": "text"
      },
      "source": [
        "#### Program 2: Custom Pesan Error\n",
        "\n",
        "Pada program kedua ketika tautan rusak diklik, itu menunjukkan Pesan Error 404.\n",
        "\n",
        "![alt text](https://github.com/alldino/DTS-IoT/blob/master/image/20.4.2.2.png?raw=true)"
      ]
    },
    {
      "cell_type": "markdown",
      "metadata": {
        "id": "40kC8VoYEG5D",
        "colab_type": "text"
      },
      "source": [
        "## 20.5  Metode HTTP: GET dan POST\n",
        "\n",
        "---\n",
        "\n",
        "Hypertext Transfer Protocol (HTTP) dirancang untuk memungkinkan komunikasi antara klien dan server.\n",
        "\n",
        "HTTP berfungsi sebagai protokol permintaan-respons antara client dan server. Setiap pesan Hypertext Transfer Protocol (HTTP) adalah permintaan atau respons. Server mendengarkan setiap ada permintaan, mem-parsing setiap pesan yang diterima, menafsirkan semantik pesan dalam kaitannya dengan target permintaan yang diidentifikasi, dan menanggapi permintaan itu dengan satu atau lebih pesan tanggapan. Klien menyusun pesan permintaan untuk mengomunikasikan niat tertentu, memeriksa respons yang diterima untuk melihat apakah niat tersebut dilakukan, dan menentukan cara menafsirkan hasil.\n",
        "\n",
        "Browser web bertindak sebagai client, dan aplikasi di komputer yang meng-host-kan situs web bertindak sebagai server.\n",
        "Contoh: Client (browser) mengirimkan permintaan HTTP ke server; kemudian server mengembalikan respons ke Client. Respons berisi informasi status tentang permintaan dan mungkin juga berisi konten yang diminta.\n",
        "\n",
        "<br>\n",
        "Metode yang biasa digunakan untuk meminta dan merespon data diantara Client dan Server yaitu GET dan POST.\n",
        "\n",
        "* **GET** - Meminta data dari sumber daya yang ditentukan\n",
        "* **POST** - Menyerahkan data untuk diproses ke sumber daya yang ditentukan"
      ]
    },
    {
      "cell_type": "markdown",
      "metadata": {
        "id": "9brlM2fwT_hZ",
        "colab_type": "text"
      },
      "source": [
        "### 20.5.1  Metode GET\n",
        "\n",
        "Metode GET meminta transfer representasi terpilih saat ini untuk sumber daya target. GET adalah mekanisme utama pencarian informasi dan fokus dari hampir semua optimasi kinerja. Oleh karena itu, ketika orang berbicara tentang mengambil beberapa informasi yang dapat diidentifikasi melalui HTTP, mereka umumnya merujuk pada pembuatan permintaan GET.\n",
        "\n",
        "<br>\n",
        "\n",
        "**Metode GET**\n",
        "\n",
        "**Perhatikan bahwa string kueri (berupa pasangan name / value) dikirim dalam URL permintaan GET:**\n",
        "```\n",
        "http://httpbin.org/get?name1=value1&name2=value2\n",
        "```\n",
        "\n",
        "**Beberapa catatan lain tentang permintaan GET:**\n",
        "* **Permintaan GET dapat di-cache**\n",
        "* **Permintaan GET tetap ada dalam riwayat browser**\n",
        "* **Permintaan GET dapat ditandai**\n",
        "* **Permintaan GET tidak boleh digunakan saat berurusan dengan data sensitif**\n",
        "* **Permintaan GET memiliki batasan panjang**\n",
        "* **Permintaan GET harus digunakan hanya untuk mengambil data**"
      ]
    },
    {
      "cell_type": "markdown",
      "metadata": {
        "id": "QNEBbXhRilEf",
        "colab_type": "text"
      },
      "source": [
        "#### 20.5.1.1  Praktikum #4 - Permintaan GET dari NodeMCU (Client)\n",
        "\n",
        "Program ini menjadikan NodeMCU sebagai client untuk mengirim permintaan http ke server web (mirip dengan browser web Anda) dan mendapat respons darinya. Dalam program, ubah nama Wi-Fi dan kata sandi Wi-Fi sesuai konfigurasi router Wi-Fi Anda."
      ]
    },
    {
      "cell_type": "code",
      "metadata": {
        "id": "i7rqOyMJjlKN",
        "colab_type": "code",
        "colab": {}
      },
      "source": [
        "/* \n",
        " *  ESP8266 Communication and Protocols \n",
        " *  Sending GET request to server Example \n",
        " *  -Manoj R. Thakur \n",
        " */ \n",
        "  \n",
        "#include <ESP8266WiFi.h> \n",
        "#include <WiFiClient.h> \n",
        "#include <ESP8266HTTPClient.h> \n",
        "  \n",
        "const char* wifiName = \"Wi-Fi-name\"; \n",
        "const char* wifiPass = \"Wi-Fi-password\"; \n",
        "  \n",
        "//Web Server address to read/write from \n",
        "const char *host = \"http://httpbin.org/get\";\n",
        "void setup() { \n",
        "  \n",
        "  Serial.begin(115200); \n",
        "  delay(10); \n",
        "  Serial.println(); \n",
        "  \n",
        "  Serial.print(\"Connecting to \"); \n",
        "  Serial.println(wifiName); \n",
        "  \n",
        "  WiFi.begin(wifiName, wifiPass); \n",
        "  \n",
        "  while (WiFi.status() != WL_CONNECTED) { \n",
        "    delay(500); \n",
        "    Serial.print(\".\"); \n",
        "  } \n",
        "  \n",
        "  Serial.println(\"\"); \n",
        "  Serial.println(\"Wi-Fi connected\"); \n",
        "  Serial.println(\"IP address: \"); \n",
        "  Serial.println(WiFi.localIP());   //You can get IP address assigned to ESP \n",
        "}\n",
        "void loop() { \n",
        "  HTTPClient http;    //Declare object of class HTTPClient \n",
        "  String ADCData = String(analogRead(A0)); \n",
        "  String getData, Link; \n",
        "  //GET Data \n",
        "  //Note \"?\" added at front and \"&\" is used after each new parameter as per GET format \n",
        "  getData = \"?data=\" + ADCData + \"&sensor=temperature\";  \n",
        "  Link = host + getData; \n",
        "  \n",
        "  Serial.print(\"Request Link:\"); \n",
        "  Serial.println(Link); \n",
        "  \n",
        "  http.begin(Link);     //Specify request destination \n",
        "  \n",
        "  int httpCode = http.GET();            //Send the request \n",
        "  String payload = http.getString();    //Get the response payload from server \n",
        "  \n",
        "  Serial.print(\"Response Code:\"); //200 is OK \n",
        "  Serial.println(httpCode);   //Print HTTP return code \n",
        "  Serial.print(\"Returned data from Server:\"); \n",
        "  Serial.println(payload);    //Print request response payload \n",
        "  \n",
        "  http.end();  //Close connection \n",
        "  \n",
        "  delay(5000);  //GET Data at every 5 seconds \n",
        "}"
      ],
      "execution_count": 0,
      "outputs": []
    },
    {
      "cell_type": "markdown",
      "metadata": {
        "id": "1YG2WjT_juXR",
        "colab_type": "text"
      },
      "source": [
        "#### 20.5.1.2  Hasil Praktikum #4\n",
        "\n",
        "Buka serial monitor dan amati responsnya. Coba tautan yang sama di peramban web itu harus mengembalikan respons yang sama seperti yang kita dapatkan di serial monitor  ESP / NodeMCU.\n",
        "\n",
        "![alt text](https://github.com/alldino/DTS-IoT/blob/master/image/20.5.1.1.png?raw=true)"
      ]
    },
    {
      "cell_type": "markdown",
      "metadata": {
        "id": "Yc4EyGniktcZ",
        "colab_type": "text"
      },
      "source": [
        "### 20.5.2  Handling Permintaan GET dikirim ke NodeMCU\n",
        "\n",
        "Pada bab sebelumnya NodeMCU dijadikan sebagai Server. Sekarang kami menangani permintaan GET yang dikirim ke NodeMCU dari Client. Untuk mendemonstrasikan ini, kita menyalakan / mematikan LED pada board NodeMCU menggunakan permintaan GET ***“? LED = on”***."
      ]
    },
    {
      "cell_type": "markdown",
      "metadata": {
        "id": "dIm21JhimIPr",
        "colab_type": "text"
      },
      "source": [
        "#### 20.5.2.1  Praktikum #5 - Program untuk meng-handle permintaan GET\n",
        "\n",
        "Dalam program, ubah nama Wi-Fi dan kata sandi Wi-Fi sesuai konfigurasi router Wi-Fi Anda."
      ]
    },
    {
      "cell_type": "code",
      "metadata": {
        "id": "2N5UHaSWmTgJ",
        "colab_type": "code",
        "colab": {}
      },
      "source": [
        "/* \n",
        " *  ESP8266 Communication and Protocols \n",
        " *  Handling GET Requests \n",
        " *  -Manoj R. Thakur \n",
        " */ \n",
        "  \n",
        "#include <ESP8266WiFi.h> \n",
        "#include <ESP8266WebServer.h> \n",
        "#include <ESP8266mDNS.h> \n",
        "  \n",
        "const char* wifiName = \"Wi-Fi-name\"; \n",
        "const char* wifiPass = \"Wi-Fi-password\"; \n",
        "  \n",
        "ESP8266WebServer server(80);  //Define server object \n",
        "  \n",
        "const char htmlPage[] PROGMEM = R\"=====( \n",
        "<HTML>\n",
        "  <HEAD> \n",
        "      <TITLE>GET Request Handler</TITLE> \n",
        "  </HEAD> \n",
        "<BODY> \n",
        "  <CENTER> \n",
        "      <B>LED Status=@@LEDState@@</B>      \n",
        "  </CENTER> \n",
        "  <marquee behavior=\"alternate\">NodeMCU ESP8266 Communication Methods and Protocols</marquee> \n",
        "</BODY> \n",
        "</HTML> \n",
        ")=====\"; \n",
        "  \n",
        "//Handles http request \n",
        "void handleRoot() { \n",
        "  String LEDstate, webPage; \n",
        "  webPage = htmlPage; \n",
        "  \n",
        "  LEDstate = server.arg(\"LED\");   //Using this we can read arguments passed in a link \n",
        "  Serial.print(\"Argument Received:\"); \n",
        "  Serial.println(LEDstate); \n",
        "  if(LEDstate==\"1\") \n",
        "  { \n",
        "    digitalWrite(2, 0); //Turn on LED \n",
        "    webPage.replace(\"@@LEDState@@\",\"ON\"); //Replace string in web page to show current status \n",
        "  } \n",
        "  \n",
        "  \n",
        "  if(LEDstate==\"0\") \n",
        "  { \n",
        "    digitalWrite(2, 1); //Turn off LED \n",
        "    webPage.replace(\"@@LEDState@@\",\"OFF\"); //Replace string in web page to show current status \n",
        "  } \n",
        "  \n",
        "  server.send(200, \"text/html\", webPage); \n",
        "} \n",
        "  \n",
        "// the setup function runs once when you press reset or power the board \n",
        "void setup() { \n",
        "  \n",
        "  Serial.begin(115200);\n",
        "  delay(10); \n",
        "  pinMode(2,OUTPUT); \n",
        "  Serial.println(); \n",
        "  \n",
        "  Serial.print(\"Connecting\"); \n",
        "  \n",
        "  WiFi.begin(wifiName, wifiPass);   //Connect to Wi-Fi \n",
        "  \n",
        "  while (WiFi.status() != WL_CONNECTED) { \n",
        "    delay(500); \n",
        "    Serial.print(\".\"); \n",
        "  } \n",
        "  \n",
        "  Serial.println(\"\"); \n",
        "  Serial.println(\"Wi-Fi connected\"); \n",
        "  Serial.println(\"IP address: \"); \n",
        "  Serial.println(WiFi.localIP());   //You can get IP address assigned to ESP \n",
        "  \n",
        "  server.on(\"/\", handleRoot);      //Associate handler function to web requests \n",
        "  \n",
        "  server.begin(); //Start web server\n",
        "  Serial.println(\"HTTP server started\"); \n",
        "} \n",
        "  \n",
        "void loop() { \n",
        "  //Handle Clinet requests \n",
        "  server.handleClient(); \n",
        "}"
      ],
      "execution_count": 0,
      "outputs": []
    },
    {
      "cell_type": "markdown",
      "metadata": {
        "id": "Rfjh60ZnlSVU",
        "colab_type": "text"
      },
      "source": [
        "#### 20.5.2.2  Hasil Praktikum #5\n",
        "\n",
        "Setelah mengunggah, dapatkan IP NodeMCU dari Serial monitor  dan juga amati serial monitor  dan LED biru di board NodeMCU, Buka browser web dan masukkan tautan “http://192.168.43.19/?LED=1” untuk mengaktifkan LED . Untuk mematikan LED gunakan parameter LED = 0, Contohnya “http://192.168.43.19/?LED=0”\n",
        "\n",
        "![alt text](https://github.com/alldino/DTS-IoT/blob/master/image/20.6.2.1.png?raw=true)\n"
      ]
    },
    {
      "cell_type": "markdown",
      "metadata": {
        "id": "oStWSA5znlgi",
        "colab_type": "text"
      },
      "source": [
        "### 2.5.2  Metode POST\n",
        "\n",
        "Metode POST meminta agar sumber daya target memproses representasi yang dilampirkan dalam permintaan sesuai dengan semantik spesifik sumber daya itu sendiri. Misalnya, POST digunakan untuk fungsi-fungsi berikut (antara lain):\n",
        "* Memberikan blok data, seperti bidang yang dimasukkan ke dalam formulir HTML, untuk proses penanganan data;\n",
        "* Posting pesan ke papan buletin, newsgroup, milis, blog, atau grup artikel serupa;\n",
        "* Membuat sumber daya baru yang belum diidentifikasi oleh server asal; dan\n",
        "* Menambahkan data ke representasi sumber daya yang ada.\n",
        "\n",
        "Server menunjukkan semantik respons dengan memilih kode status yang sesuai tergantung pada hasil pemrosesan permintaan POST; hampir semua kode status yang ditentukan oleh spesifikasi ini dapat diterima sebagai respons terhadap POST (pengecualiannya adalah 206 (Konten Sebagian), 304 (Tidak Dimodifikasi), dan 416 (Rentang Tidak Memuaskan)).\n",
        "\n",
        "<br>\n",
        "\n",
        "**Metode POST**\n",
        "\n",
        "**Perhatikan bahwa string kueri (pasangan nama / nilai) dikirim dalam tubuh pesan HTTP permintaan POST:**\n",
        "\n",
        "```\n",
        "POST / HTTP/1.1\n",
        "Tuan rumah: foo.com\n",
        "Content-Type: application/x-www-form-urlencoded\n",
        "Panjang Konten: 13\n",
        "say=Hai&untuk=Ibu\n",
        "```\n",
        "\n",
        "**Beberapa catatan tentang permintaan POST:**\n",
        "* **Permintaan POST tidak pernah di-cache** \n",
        "* **Permintaan POST tidak tetap dalam riwayat browser**\n",
        "* **Permintaan POST tidak dapat di-bookmark**\n",
        "* **Permintaan POST tidak memiliki batasan panjang data**\n",
        "\n"
      ]
    },
    {
      "cell_type": "markdown",
      "metadata": {
        "id": "QfXye0Znrdri",
        "colab_type": "text"
      },
      "source": [
        "#### 2.5.2.1  Praktikum #6 - Permintaan POST NodeMCU\n",
        "\n",
        "Program ini menjadikan NodeMCU sebagai client untuk mengirim permintaan http ke server web (mirip dengan browser web Anda) dan mendapat respons darinya. Dalam program, ubah nama Wi-Fi dan kata sandi Wi-Fi sesuai konfigurasi router Wi-Fi Anda."
      ]
    },
    {
      "cell_type": "code",
      "metadata": {
        "id": "3RYmdlDCrzx9",
        "colab_type": "code",
        "colab": {}
      },
      "source": [
        "/* \n",
        " *  ESP8266 Communication and Protocols \n",
        " *  Sending POST request to server Example \n",
        " *  -Manoj R. Thakur \n",
        " */ \n",
        "  \n",
        "#include <ESP8266WiFi.h> \n",
        "#include <WiFiClient.h> \n",
        "#include <ESP8266HTTPClient.h> \n",
        "  \n",
        "const char* wifiName = \"Wi-Fi-name\"; \n",
        "const char* wifiPass = \"Wi-Fi-password\"; \n",
        "  \n",
        "//Web Server address to read/write from \n",
        "const char *host = \"http://httpbin.org/post\";\n",
        "void setup() { \n",
        "  \n",
        "  Serial.begin(115200); \n",
        "  delay(10); \n",
        "  Serial.println(); \n",
        "  \n",
        "  Serial.print(\"Connecting to \"); \n",
        "  Serial.println(wifiName); \n",
        "  \n",
        "  WiFi.begin(wifiName, wifiPass); \n",
        "  \n",
        "  while (WiFi.status() != WL_CONNECTED) { \n",
        "    delay(500); \n",
        "    Serial.print(\".\"); \n",
        "  } \n",
        "  \n",
        "  Serial.println(\"\"); \n",
        "  Serial.println(\"Wi-Fi connected\"); \n",
        "  Serial.println(\"IP address: \"); \n",
        "  Serial.println(WiFi.localIP());   //You can get IP address assigned to ESP \n",
        "}\n",
        "void loop() { \n",
        "  HTTPClient http;    //Declare object of class HTTPClient \n",
        "  String ADCData = String(analogRead(A0)); \n",
        "  String postData; \n",
        "  \n",
        "  //POST Data \n",
        "  postData = \"data=\" + ADCData + \"&sensor=temperature\";  \n",
        "  \n",
        "  Serial.print(\"Post Data:\"); \n",
        "  Serial.println(postData); \n",
        "  \n",
        "  http.begin(host);   //Specify request destination \n",
        "  http.addHeader(\"Content-Type\", \"application/x-www-form-urlencoded\");    //Specify content-type header \n",
        "  \n",
        "  int httpCode = http.POST(postData);   //Send the request \n",
        "  String payload = http.getString();    //Get the response payload \n",
        "  \n",
        "  Serial.print(\"Response Code:\"); //200 is OK \n",
        "  Serial.println(httpCode);   //Print HTTP return code \n",
        "  \n",
        "  Serial.print(\"Returned data from Server:\");\n",
        "  Serial.println(payload);    //Print request response payload \n",
        "  \n",
        "  http.end();  //Close connection \n",
        "  \n",
        "  delay(5000);  //POST Data at every 5 seconds \n",
        "}  "
      ],
      "execution_count": 0,
      "outputs": []
    },
    {
      "cell_type": "markdown",
      "metadata": {
        "id": "3xweOYWMsBOb",
        "colab_type": "text"
      },
      "source": [
        "Unggah program dan buka serial monitor."
      ]
    },
    {
      "cell_type": "markdown",
      "metadata": {
        "id": "sQM8km-gsG8i",
        "colab_type": "text"
      },
      "source": [
        "#### 2.5.2.2  Hasil Praktikum #6\n",
        "\n",
        "Buka serial monitor  dan amati responsnya. Sulit mengirim permintaan POST menggunakan browser web.\n",
        "\n",
        "![alt text](https://github.com/alldino/DTS-IoT/blob/master/image/20.7.1.1.png?raw=true)"
      ]
    },
    {
      "cell_type": "markdown",
      "metadata": {
        "id": "qb_uu07SsqX8",
        "colab_type": "text"
      },
      "source": [
        "#### 2.5.2.3  Praktikum #7 - Handling Permintaan POST dikirik ke NodeMCU\n",
        "\n",
        "Pada bab sebelumnya NodeMCU masih dijadikan sebagai Server. Sekarang kita mencoba menangani permintaan POST yang dikirim ke NodeMCU dari client.\n",
        "\n",
        "Dalam program, ubah nama Wi-Fi dan kata sandi Wi-Fi sesuai konfigurasi router Wi-Fi Anda. Program ini sama dengan handling permintaan GET, namun kita modifikasi untuk mengirim permintaan POST menggunakan formulir web. Kita hanya mengubah bagian Kode halaman web HTML saja. Nama Tombol dijaga tetap sama dan nilainya diubah saat menggunakan \n",
        "```\n",
        "server.arg(\"LED\"); \n",
        "```\n",
        "gunakan nama komponen formulir html untuk membaca nilai darinya. Dimungkinkan dapat menggunakan banyak argumen dengan nilai berbeda pada program ini. Cukup tambahkan beberapa baris perintah \n",
        "```\n",
        "server.arg (\"nama komponen\").\n",
        "```\n",
        "    \n",
        "    <BUTTON name = \"LED\" value = \"1\"> ON </BUTTON>\n",
        "    <BUTTON name = \"LED\" value = \"0\"> OFF </BUTTON>"
      ]
    },
    {
      "cell_type": "code",
      "metadata": {
        "id": "moYGbPMUvhTk",
        "colab_type": "code",
        "colab": {}
      },
      "source": [
        "/* \n",
        " *  ESP8266 Communication and Protocols \n",
        " *  Handling GET Requests \n",
        " *  -Manoj R. Thakur \n",
        " */ \n",
        "  \n",
        "#include <ESP8266WiFi.h> \n",
        "#include <ESP8266WebServer.h>\n",
        "#include <ESP8266mDNS.h> \n",
        "  \n",
        "const char* wifiName = \"Wi-Fi-name\"; \n",
        "const char* wifiPass = \"Wi-Fi-password\"; \n",
        "  \n",
        "ESP8266WebServer server(80);  //Define server object \n",
        "  \n",
        "const char htmlPage[] PROGMEM = R\"=====( \n",
        "<HTML> \n",
        "  <HEAD> \n",
        "      <TITLE>POST Request Demo</TITLE> \n",
        "  </HEAD> \n",
        "<BODY> \n",
        "  <CENTER> \n",
        "      <B>LED Status=@@LEDState@@</B>      \n",
        "  </CENTER> \n",
        "  <FORM method=\"POST\" action=\"/\"> \n",
        "    <BUTTON name=\"LED\" value=\"1\">ON</BUTTON> \n",
        "    <BUTTON name=\"LED\" value=\"0\">OFF</BUTTON> \n",
        "  </FORM> \n",
        "  <marquee behavior=\"alternate\">NodeMCU ESP8266 Communication Methods and Protocols</marquee> \n",
        "</BODY>\n",
        "</HTML> \n",
        ")=====\"; \n",
        "  \n",
        "//Handles http request \n",
        "void handleRoot() { \n",
        "  String LEDstate, webPage; \n",
        "  webPage = htmlPage; \n",
        "  \n",
        "  LEDstate = server.arg(\"LED\");   //Using this we can read arguments passed in a link \n",
        "  Serial.print(\"Argument Received:\"); \n",
        "  Serial.println(LEDstate); \n",
        "  \n",
        "  if(LEDstate==\"1\") \n",
        "  { \n",
        "    digitalWrite(2, 0); //Turn on LED \n",
        "    webPage.replace(\"@@LEDState@@\",\"ON\"); //Replace string in web page to show current status \n",
        "  } \n",
        "  \n",
        "  \n",
        "  if(LEDstate==\"0\") \n",
        "  {\n",
        "          digitalWrite(2, 1); //Turn off LED \n",
        "    webPage.replace(\"@@LEDState@@\",\"OFF\"); //Replace string in web page to show current status \n",
        "  } \n",
        "  \n",
        "  server.send(200, \"text/html\", webPage); \n",
        "} \n",
        "  \n",
        "// the setup function runs once when you press reset or power the board \n",
        "void setup() { \n",
        "  \n",
        "  Serial.begin(115200); \n",
        "  delay(10); \n",
        "  pinMode(2,OUTPUT); \n",
        "  Serial.println(); \n",
        "  \n",
        "  Serial.print(\"Connecting\"); \n",
        "  \n",
        "  WiFi.begin(wifiName, wifiPass);   //Connect to Wi-Fi \n",
        "  \n",
        "  while (WiFi.status() != WL_CONNECTED) { \n",
        "    delay(500);\n",
        "    Serial.print(\".\"); \n",
        "  } \n",
        "  \n",
        "  Serial.println(\"\"); \n",
        "  Serial.println(\"Wi-Fi connected\"); \n",
        "  Serial.println(\"IP address: \"); \n",
        "  Serial.println(WiFi.localIP());   //You can get IP address assigned to ESP \n",
        "  \n",
        "  server.on(\"/\", handleRoot);      //Associate handler function to web requests \n",
        "  \n",
        "  server.begin(); //Start web server \n",
        "  Serial.println(\"HTTP server started\"); \n",
        "} \n",
        "  \n",
        "void loop() { \n",
        "  //Handle Clinet requests \n",
        "  server.handleClient(); \n",
        "}"
      ],
      "execution_count": 0,
      "outputs": []
    },
    {
      "cell_type": "markdown",
      "metadata": {
        "id": "fXWca5_UvvTl",
        "colab_type": "text"
      },
      "source": [
        "#### 2.5.2.4  Hasil Praktikum #7 \n",
        "\n",
        "Setelah mengunggah, dapatkan IP NodeMCU dari Serial monitor dan amati juga serial monitor dan LED biru pada board NodeMCU, Pada browser web buka dengan cara memasukan alamat IP NodeMCU. Kemudian tekan tombol ON / OFF dan amati LED dan serial monitor.\n",
        "\n",
        "![alt text](https://github.com/alldino/DTS-IoT/blob/master/image/20.7.2.1.png?raw=true)"
      ]
    },
    {
      "cell_type": "markdown",
      "metadata": {
        "id": "yV_-EyPO0HPT",
        "colab_type": "text"
      },
      "source": [
        "##### Referensi\n",
        "\n",
        "NodeMCU ESP8266 Communication Methods and Protocols : Programming with Arduino IDE (Kindle Edition)\n",
        "\n",
        "Published July 19th 2018\n",
        "\n",
        "Kindle Edition, 284 pages\n",
        "\n",
        "Author(s): Manoj R. Thakur\n",
        "\n",
        "ASIN: B07FQJYLJ3"
      ]
    }
  ]
}