{
  "nbformat": 4,
  "nbformat_minor": 0,
  "metadata": {
    "colab": {
      "name": "Modul IoT 31 - Case Study : Open Platform.ipynb",
      "version": "0.3.2",
      "provenance": [],
      "collapsed_sections": [],
      "include_colab_link": true
    },
    "kernelspec": {
      "name": "python3",
      "display_name": "Python 3"
    }
  },
  "cells": [
    {
      "cell_type": "markdown",
      "metadata": {
        "id": "view-in-github",
        "colab_type": "text"
      },
      "source": [
        "<a href=\"https://colab.research.google.com/github/alldino/DTS-IoT/blob/master/Modul_IoT_31_Case_Study_Open_Platform.ipynb\" target=\"_parent\"><img src=\"https://colab.research.google.com/assets/colab-badge.svg\" alt=\"Open In Colab\"/></a>"
      ]
    },
    {
      "cell_type": "markdown",
      "metadata": {
        "id": "i3IAqv3sKQ78",
        "colab_type": "text"
      },
      "source": [
        "#Modul 31 - Case Study : Open Platform (Thinger.io)"
      ]
    },
    {
      "cell_type": "markdown",
      "metadata": {
        "id": "Fuz5AufgKct4",
        "colab_type": "text"
      },
      "source": [
        "## Install Library thinger.io"
      ]
    },
    {
      "cell_type": "markdown",
      "metadata": {
        "id": "Jouvf2tPK2cg",
        "colab_type": "text"
      },
      "source": [
        "Buka Library Manager pada menu Arduino IDE Sketch > Include Library > Manage Library\n",
        "\n",
        "![alt text](https://discoursefiles.s3-eu-west-1.amazonaws.com/original/1X/30a5f56c8917f8a26b03efb2438bfa444d531b2f.png)\n",
        "\n",
        "Lakukan pencarian dan install library thinger.io\n",
        "![alt text](https://discoursefiles.s3-eu-west-1.amazonaws.com/original/1X/0e8bc7c86b5aff26aea7649741b592c8157cae11.png)"
      ]
    },
    {
      "cell_type": "markdown",
      "metadata": {
        "id": "RjhVBo00LZug",
        "colab_type": "text"
      },
      "source": [
        "##Konfigurasi NodeMCU"
      ]
    },
    {
      "cell_type": "markdown",
      "metadata": {
        "id": "8t2CD3KSMGKl",
        "colab_type": "text"
      },
      "source": [
        "Compile dan Upload code berikut ke NodeMCU"
      ]
    },
    {
      "cell_type": "code",
      "metadata": {
        "id": "WI7FbqyHKQMA",
        "colab_type": "code",
        "colab": {}
      },
      "source": [
        "#include <ESP8266WiFi.h>\n",
        "#include <ThingerWifi.h>\n",
        "\n",
        "\n",
        "#define USERNAME \"**************\"\n",
        "#define DEVICE_ID \"**************\"\n",
        "#define DEVICE_CREDENTIAL \"*********\"\n",
        "\n",
        "#define SSID \"***********\"\n",
        "#define SSID_PASSWORD \"***************\"\n",
        "\n",
        "ThingerWifi thing(USERNAME, DEVICE_ID, DEVICE_CREDENTIAL);\n",
        "\n",
        "void setup() {\n",
        "  pinMode(2, OUTPUT);\n",
        "\n",
        "  thing.add_wifi(SSID, SSID_PASSWORD);\n",
        "\n",
        "  // digital pin control example (i.e. turning on/off a light, a relay, configuring a parameter, etc)\n",
        "  thing[\"led\"] << digitalPin(2);\n",
        "\n",
        "  // resource output example (i.e. reading a sensor value)\n",
        "  thing[\"millis\"] >> outputValue(millis());\n",
        "\n",
        "  // more details at http://docs.thinger.io/arduino/\n",
        "}\n",
        "\n",
        "void loop() {\n",
        "  thing.handle();\n",
        "}"
      ],
      "execution_count": 0,
      "outputs": []
    },
    {
      "cell_type": "markdown",
      "metadata": {
        "id": "Mej7_M_hMhdr",
        "colab_type": "text"
      },
      "source": [
        "##Konfigurasi Thinger.io"
      ]
    },
    {
      "cell_type": "markdown",
      "metadata": {
        "id": "q3nWkofTMls1",
        "colab_type": "text"
      },
      "source": [
        "* Silahkan lakukan registrasi akun pada web [https://thinger.io/](https://thinger.io/)\n",
        "\n",
        "![alt text](https://raw.githubusercontent.com/alldino/DTS-IoT/master/image/31.png)\n",
        "\n",
        "* Tambahkan perangkat yang akan kita hubungkan ke thinger.io\n",
        "\n",
        "![alt text](https://www.kodingindonesia.com/wp-content/uploads/2017/05/IOT-1.jpg)\n",
        "\n",
        "![alt text](https://raw.githubusercontent.com/alldino/DTS-IoT/master/image/31.1.png)\n",
        "\n",
        "* Pastikan NodeMCU terhubung ke internet !\n",
        "\n",
        "![alt text](https://raw.githubusercontent.com/alldino/DTS-IoT/master/image/31.2.png)\n",
        "\n",
        "* Amati hasilnya dengan cara meng-explore bagian API-nya!\n",
        "\n",
        "![alt text](https://raw.githubusercontent.com/alldino/DTS-IoT/master/image/31.3.png)\n",
        "\n",
        "* Buatlah dashboard untuk menampilkan data pada NodeMCU!\n",
        "\n",
        "\n"
      ]
    },
    {
      "cell_type": "markdown",
      "metadata": {
        "id": "yxoqVIL4PWD-",
        "colab_type": "text"
      },
      "source": [
        "##Tugas"
      ]
    },
    {
      "cell_type": "markdown",
      "metadata": {
        "id": "V1sk3RRqPYp0",
        "colab_type": "text"
      },
      "source": [
        "###Tambahkan komponen untuk pembacaan nilai ADC pada dashboard perangkat Anda !"
      ]
    }
  ]
}