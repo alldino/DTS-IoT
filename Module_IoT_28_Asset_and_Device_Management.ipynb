{
  "nbformat": 4,
  "nbformat_minor": 0,
  "metadata": {
    "colab": {
      "name": "Module_IoT_28_Asset and Device Management.ipynb",
      "version": "0.3.2",
      "provenance": [],
      "collapsed_sections": [],
      "include_colab_link": true
    },
    "kernelspec": {
      "name": "python3",
      "display_name": "Python 3"
    }
  },
  "cells": [
    {
      "cell_type": "markdown",
      "metadata": {
        "id": "view-in-github",
        "colab_type": "text"
      },
      "source": [
        "<a href=\"https://colab.research.google.com/github/alldino/DTS-IoT/blob/master/Module_IoT_28_Asset_and_Device_Management.ipynb\" target=\"_parent\"><img src=\"https://colab.research.google.com/assets/colab-badge.svg\" alt=\"Open In Colab\"/></a>"
      ]
    },
    {
      "cell_type": "markdown",
      "metadata": {
        "id": "SWbMNmMhfNew",
        "colab_type": "text"
      },
      "source": [
        "Module 28 - Asset and Device Management"
      ]
    },
    {
      "cell_type": "markdown",
      "metadata": {
        "id": "bAb1dPAhfWky",
        "colab_type": "text"
      },
      "source": [
        "##Praktek 1 - Merancang Internet of Things di NodeMCU menggunakan Cayenne"
      ]
    },
    {
      "cell_type": "markdown",
      "metadata": {
        "id": "LwNeuQEogFKN",
        "colab_type": "text"
      },
      "source": [
        "Dalam tutorial merancang internet of things ini, Anda akan belajar mengenai cara mengkonfigurasi NodeMCU dengan menggunakan Cayenne. Proses ini sangat sederhana dan mudah, Anda akan dapat mengakses ke paket software IoT.\n",
        "\n",
        "Cayenner Internet of Things Builder ini memiliki banyak kelebihan untuk pemula. si cayenne ini memiliki banyak fitur, mudah dan sederhana untuk digunakan, dan sedikit coding (bahkan tidak perlu) saja anda sudah bisa menyiapkan sistem internet of thing yang baik.\n",
        "\n",
        "Yang harus anda lakukan adalah tinggal langsung menghubungkan sensor dengan benar, lalu tambahkan sensor / perangkat di Cayenne. Dengan menggunakan perangkat Cayenne, Anda dapat membuat Trigger, Events, Monitoring Widget, dan lain sebagainya.\n",
        "\n",
        "Proses menginstal Cayenne ke NodeMCU cukup sederhana dan tidak membutuhkan waktu lama. Berikut langkah-langkah yang harus Anda lakukan."
      ]
    },
    {
      "cell_type": "markdown",
      "metadata": {
        "id": "eo_ub_SrhFuu",
        "colab_type": "text"
      },
      "source": [
        "####1. Pertama, daftar dan masuk melalui tautan berikut"
      ]
    },
    {
      "cell_type": "markdown",
      "metadata": {
        "id": "he-ST4-Dh7NL",
        "colab_type": "text"
      },
      "source": [
        "[https://developers.mydevices.com/cayenne/signup/](https://developers.mydevices.com/cayenne/signup/)"
      ]
    },
    {
      "cell_type": "markdown",
      "metadata": {
        "id": "Y4UinZI_h-t6",
        "colab_type": "text"
      },
      "source": [
        "![alt text](https://github.com/alldino/DTS-IoT/blob/master/image/28.1.png?raw=true)"
      ]
    },
    {
      "cell_type": "markdown",
      "metadata": {
        "id": "V8Xn7kgco5PQ",
        "colab_type": "text"
      },
      "source": [
        "![alt text](https://github.com/alldino/DTS-IoT/blob/master/image/28.2.png?raw=true)"
      ]
    },
    {
      "cell_type": "markdown",
      "metadata": {
        "id": "eYP9reioo6uq",
        "colab_type": "text"
      },
      "source": [
        "####2. Kedua, setelah masuk, maka akan muncul tampilan daftar perangkat yang didukung\n"
      ]
    },
    {
      "cell_type": "markdown",
      "metadata": {
        "id": "DI9Mzn8CpYv_",
        "colab_type": "text"
      },
      "source": [
        "![alt text](https://github.com/alldino/DTS-IoT/blob/master/image/28.3.png?raw=true)"
      ]
    },
    {
      "cell_type": "markdown",
      "metadata": {
        "id": "SyfACIqPpbbR",
        "colab_type": "text"
      },
      "source": [
        "####Kemudian pilih \"All Devices\", kemudian pilih \"Generic ESP8266\""
      ]
    },
    {
      "cell_type": "markdown",
      "metadata": {
        "id": "mZHQ0N1NpkHp",
        "colab_type": "text"
      },
      "source": [
        "![alt text](https://github.com/alldino/DTS-IoT/blob/master/image/28.4.png?raw=true)"
      ]
    },
    {
      "cell_type": "markdown",
      "metadata": {
        "id": "qrExGlYiqujm",
        "colab_type": "text"
      },
      "source": [
        "####3. Ketiga, setelah dipilih, maka akan muncul tampilan konfigurasi dari NodeMCU, jangan lupa ganti nama perangkatnya misalnya \"NodeMCU1\". Pemberian nama perangkat bebas.\n"
      ]
    },
    {
      "cell_type": "markdown",
      "metadata": {
        "id": "Snfp4hR9rtHd",
        "colab_type": "text"
      },
      "source": [
        "![alt text](https://github.com/alldino/DTS-IoT/blob/master/image/28.5.png?raw=true)"
      ]
    },
    {
      "cell_type": "markdown",
      "metadata": {
        "id": "HXzbwCzYpqtD",
        "colab_type": "text"
      },
      "source": [
        "####4. Keempat, buka software Arduino IDE, kemudian buka menu Sketch > Include Library > Manage Libraries (Ctrl + Shift + I), kemudian pasang library CayenneMQTT"
      ]
    },
    {
      "cell_type": "markdown",
      "metadata": {
        "id": "vbokcmhmru14",
        "colab_type": "text"
      },
      "source": [
        "![alt text](https://github.com/alldino/DTS-IoT/blob/master/image/28.6.png?raw=true)"
      ]
    },
    {
      "cell_type": "markdown",
      "metadata": {
        "id": "xIP47Vupr2Mn",
        "colab_type": "text"
      },
      "source": [
        "####5. Kelima, salin kode berikut, sesuaikan dengan konfigurasi pada langkah ketiga, kemudian unggah ke NodeMCU yang Anda gunakan. Amati apakah NodeMCU sudah terhubung ke Cayenne Dashboard atau belum."
      ]
    },
    {
      "cell_type": "code",
      "metadata": {
        "id": "4CLWU0KOudND",
        "colab_type": "code",
        "colab": {}
      },
      "source": [
        "#include <CayenneMQTTESP8266.h>\n",
        "#define CAYENNE_DEBUG\n",
        "#define CAYENNE_PRINT Serial\n",
        "\n",
        "char ssid[] = \"SSID\";\n",
        "char password[]=\"SSID PASSWORD\";\n",
        "\n",
        "char username[] = \"USER_NAME\";\n",
        "char mqtt_password[] = \"MQTT_PASS-WORD\";\n",
        "char cliend_id[] = \"MQTT_CLIENT ID\";\n",
        "\n",
        "void setup() {\n",
        "  Cayenne.begin(username, mqtt_password, cliend_id, ssid, password);\n",
        "  pinMode(2, OUTPUT);\n",
        "  digitalWrite(2, HIGH);\n",
        "}\n",
        "\n",
        "void loop() {\n",
        "  Cayenne.loop();\n",
        "}\n",
        "\n",
        "CAYENNE_IN(0)\n",
        "{\n",
        "  digitalWrite(2, !getValue.asInt()); \n",
        "}"
      ],
      "execution_count": 0,
      "outputs": []
    },
    {
      "cell_type": "markdown",
      "metadata": {
        "id": "X8HmbjO4y7Js",
        "colab_type": "text"
      },
      "source": [
        "####6. Keenam, bila NodeMCU sudah terhubung, maka tampilan dashboard dari Cayanne sebagai berikut."
      ]
    },
    {
      "cell_type": "markdown",
      "metadata": {
        "id": "S8cjS5mpz08D",
        "colab_type": "text"
      },
      "source": [
        "![alt text](https://github.com/alldino/DTS-IoT/blob/master/image/28.7.png?raw=true)"
      ]
    },
    {
      "cell_type": "markdown",
      "metadata": {
        "id": "uzkQ-LjDz_UH",
        "colab_type": "text"
      },
      "source": [
        "####7. Ketujuh, silahkan buat widget dengan mengakses menu Add New > Custom Widgets > Button. Sesuaikan konfigurasi button yang dibuat seperti berikut, dan pastikan nomor channel pada konfigurasi sama dengan channel pada program Arduino."
      ]
    },
    {
      "cell_type": "markdown",
      "metadata": {
        "id": "KysZPjHC0Jlf",
        "colab_type": "text"
      },
      "source": [
        "![alt text](https://github.com/alldino/DTS-IoT/blob/master/image/28.8.png?raw=true)"
      ]
    },
    {
      "cell_type": "markdown",
      "metadata": {
        "id": "xZawTZ_z02nV",
        "colab_type": "text"
      },
      "source": [
        "####8. Tampilan dashbord. Silahkan uji widget button yang telah dibuat. Amati hasilnya. Apakah lampu LED pada NodeMCU dapat dikendalikan dari dashboard?![alt text](https://github.com/alldino/DTS-IoT/blob/master/image/28.9.png?raw=true)"
      ]
    },
    {
      "cell_type": "markdown",
      "metadata": {
        "id": "N4leCiIH1KUv",
        "colab_type": "text"
      },
      "source": [
        "###Tugas 1"
      ]
    },
    {
      "cell_type": "markdown",
      "metadata": {
        "id": "NEA5_Gdn1Myo",
        "colab_type": "text"
      },
      "source": [
        "####Tambahkan komponen input yaitu potensio, hubungkan ke ADC NodeMCU. Pastikan sumber tegangan potensio yang digunakan yaitu 3,3 volt. Tambahkan sebuah widget yaitu Line Chart pada dashboard. Sesuaikan kode program Arduino, unggah program ke NodeMCU dan amati hasilnya."
      ]
    },
    {
      "cell_type": "markdown",
      "metadata": {
        "id": "OaHKlflP27Ee",
        "colab_type": "text"
      },
      "source": [
        "###Tugas 2"
      ]
    },
    {
      "cell_type": "markdown",
      "metadata": {
        "id": "yN_VnLPZ2_e4",
        "colab_type": "text"
      },
      "source": [
        "####Buatlah sebuah trigger pada dashboard, bila nilai ADC NodeMCU lebih dari setengah tegangan referensi ADC NodeMCU, maka LED pada NodeMCU akan menyala. "
      ]
    },
    {
      "cell_type": "markdown",
      "metadata": {
        "id": "o54ypFLC30Hb",
        "colab_type": "text"
      },
      "source": [
        "###Tugas 3"
      ]
    },
    {
      "cell_type": "markdown",
      "metadata": {
        "id": "gp4dKsTS33wr",
        "colab_type": "text"
      },
      "source": [
        "####Lakukan pembaharuan firmware dari NodeMCU secara remote menggunakan Arduino OTA (Over The Air). Program Arduino OTA dikombinasikan dengan program yang sudah ada. Metode pembaharuan firmware Arduino OTA yang digunakan yaitu Web Browser.\n",
        "http://arduino.esp8266.com/Arduino/versions/2.0.0/doc/ota_updates/ota_updates.html#web-browser "
      ]
    },
    {
      "cell_type": "markdown",
      "metadata": {
        "id": "F3_9gQlq3sj5",
        "colab_type": "text"
      },
      "source": [
        "####Referensi\n",
        "\n",
        "https://iotdesignpro.com/projects/iot-controlled-led-using-cayenne-and-esp8266"
      ]
    }
  ]
}