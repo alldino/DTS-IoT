{
  "nbformat": 4,
  "nbformat_minor": 0,
  "metadata": {
    "colab": {
      "name": "Modul IoT - 17 Wireless - LAN.ipynb",
      "version": "0.3.2",
      "provenance": [],
      "collapsed_sections": [],
      "include_colab_link": true
    },
    "kernelspec": {
      "name": "python3",
      "display_name": "Python 3"
    }
  },
  "cells": [
    {
      "cell_type": "markdown",
      "metadata": {
        "id": "view-in-github",
        "colab_type": "text"
      },
      "source": [
        "<a href=\"https://colab.research.google.com/github/alldino/DTS-IoT/blob/master/Modul_IoT_17_Wireless_LAN.ipynb\" target=\"_parent\"><img src=\"https://colab.research.google.com/assets/colab-badge.svg\" alt=\"Open In Colab\"/></a>"
      ]
    },
    {
      "cell_type": "markdown",
      "metadata": {
        "id": "xJx6THv7b3ke",
        "colab_type": "text"
      },
      "source": [
        "# Modul IoT - 17 - Wireless - LAN\n",
        "---"
      ]
    },
    {
      "cell_type": "markdown",
      "metadata": {
        "colab_type": "text",
        "id": "TkyBotvxhMcp"
      },
      "source": [
        "## Pengertian LAN (Local Area Network)\n",
        "\n",
        "<p align=\"justify\">LAN atau kepanjangan dari Local Area Network merupakan sekumpulan komputer yang saling terhubung antara satu dengan lainnya sehingga terbentuk sebuah jaringan komputer dengan cakupan jaringan yang wilayahnya kecil seperti jaringan komputer gedung, kampus, kantor, sekolah, di dalam rumah, atau di dalam satu ruangan.</p>\n"
      ]
    },
    {
      "cell_type": "markdown",
      "metadata": {
        "colab_type": "text",
        "id": "JvsN0eH8hlag"
      },
      "source": [
        "## Pengertian WLAN (Wireless Local Area Network)\n",
        "\n",
        "<p align=\"justify\">Pada dasarnya wireless dengan LAN merupakan sama-sama jaringan komputer yang saling terhubung antara satu dengan lainnya, yang membedakan antara keduanya adalah media jalur lintas data yang digunakan, jika LAN masih menggunakan kabel sebagai media lintas data, sedangkan wireless menggunakan media gelombang radio/udara. Penerapan dari aplikasi wireless network ini antara lain adalah jaringan nirkabel diperusahaan, atau mobile communication seperti handphone, satelit dan HT.</p>"
      ]
    },
    {
      "cell_type": "markdown",
      "metadata": {
        "id": "5AQYX-j9hpYt",
        "colab_type": "text"
      },
      "source": [
        "## Penemu WiFi\n",
        "\n",
        "<p align=\"justify\">Penemu Wifi adalah Hedy Lamarr seorang wanita kebangsaan Austria yang merupakan aktris sekaligus ahli Matematika, dan untuk pertama kalinya perempuan kelahiran 09 November 1914 ini memperkenalkan sistem komunikasi canggih pada Juni 1941 atau yang saat ini yang lebih dikenal dengan Teknologi Wi-Fi (Wireless Fidelity).</p>\n",
        "\n",
        "<p align=\"justify\">Selanjutnya Hedy Lamarr bersama Antheil terus mengembangkan ide sistem komunikasi rahasia yang di padu dengan gelombang radio agar data yang dikirim sulit untuk di deteksi oleh orang lain, dan akhirnya pada 11 Agustus 1942 Hedy Lamarr dan Antheil berhasil mendapatkan hak paten sebagai penemu teknologi Wifi.</p>"
      ]
    },
    {
      "cell_type": "markdown",
      "metadata": {
        "id": "yGDG_Qckh3l6",
        "colab_type": "text"
      },
      "source": [
        "## Teknologi WiFi (Band)\n",
        "\n",
        "<p align=\"justify\">Sedikit catatan, kode yang tertera pada perangkat jaringan wireless atau wifi memiliki perbedaaan dalam hal kecepatan, dan teknologi wifi paling cepat untuk saat ini adalah IEEE 802.11ac.</p>\n",
        "\n",
        "<p align=\"justify\">Lantas apa sebenarnya arti kode wifi IEEE 802.11 tersebut?, tentu kode tersebut di buat bukan tanpa alasan, melainkan kode huruf di belakang kode IEEE 802.11 tersebut menandakan spesifikasi dan kecepatan teknologi wifi yang berbeda-beda.</p>\n",
        "\n",
        "<p align=\"justify\">Kode wifi  tersebut sudah mendapatkan sertifikasi serta uji coba dari sebuah badan standarisasi teknologi informasi yang bernama Institute of Electrical and Electronic Engineers atau yang lebih dikenal dengan singkatan IEEE.</p>\n",
        "\n",
        "<p align=\"justify\">Beberapa kode standarisasi untuk teknologi komunikasi yang telah di tetapkan oleh IEEE (Institute of Electrical and Electronic Engineers) adalah sebagai berikut. </p><p></p>\n",
        "<ul>\n",
        "<li>802.1: LAN/MAN Management and Media Access Control Bridges.</li>\n",
        "<li>802.2: Logical Link Control (LLC).</li>\n",
        "<li>802.3: CSMA/CD (Standar untuk Ehernet Coaxial atau UTP).</li>\n",
        "<li>802.4: Token Bus.</li>\n",
        "<li>802.5: Token Ring (bisa menggunakan kabel STP).</li>\n",
        "<li>802.6: Distributed Queue Dual Bus (DQDB) MAN.</li>\n",
        "<li>802.7: Broadband LAN.</li>\n",
        "<li>802.8: Fiber Optic LAN &amp; MAN (Standar FDDI).</li>\n",
        "<li>802.9: Integrated Services LAN Interface (standar ISDN).</li>\n",
        "<li>802.10: LAN/MAN Security (untuk VPN).</li>\n",
        "<li>802.11: Wireless LAN (Wi-Fi).</li>\n",
        "<li>802.12: Demand Priority Access Method.</li>\n",
        "<li>802.15: Wireless PAN (Personal Area Network) &gt; IrDA dan Bluetooth.</li>\n",
        "<li>802.16: Broadband Wireless Access (standar untuk WiMAX).</li>\n",
        "</ul>\n",
        "\n",
        "<p align=\"justify\">Perbedaan kode Wifi IEEE 802.11a, 802.11b, 802.11g, 802.11n, 802.11ac, dan 802.11ad.</p>\n",
        "<p></p>\n",
        "<table cellpadding=\"0\" cellspacing=\"0\" style=\"text-align: left;\"> <tbody>\n",
        "<tr> <th>802.11 Protocol </th> <th>Release </th>  <th>Frequency GHz </th><th>Bandwidth MHz </th> <th>Modulation </th> <th>Data Rate </th> </tr>\n",
        "<tr> <td>802.11 </td> <td>1997 </td> <td>2,4 </td><td>20 </td> <td>DSSS / FHSS</td> <td>2 Mbit/s</td> </tr>\n",
        "<tr><td>802.11a </td> <td>1999 </td> <td>5 </td><td>20 </td> <td>OFDM </td> <td>54 Mbit/s</td> </tr>\n",
        "<tr> <td>802.11b </td> <td>1999 </td> <td>2,4 </td><td>20 </td> <td>DSSS </td> <td>11 Mbit/s</td></tr>\n",
        "<tr> <td>802.11g </td> <td>2003 </td> <td>2,4</td><td>20 </td> <td>DSSS / OFDM </td> <td>54 Mbit/s</td></tr>\n",
        "<tr> <td>802.11n </td> <td>2009 </td> <td>2,4 </td><td>20 / 40</td> <td>OFDM</td> <td>600 Mbit/s</td> </tr>\n",
        "<tr> <td>802.11ac </td> <td>2013 </td> <td>5 </td><td>40 / 80 / 160 </td> <td>OFDM </td> <td>6,93 Gbit/s </td> </tr>\n",
        "<tr> <td>802.11ad </td> <td>2012 </td> <td>60 </td><td>2160 </td> <td>SC-OFDM </td> <td>6,76 Gbit/s</td> </tr>\n",
        "</tbody></table>\n",
        "Keterangan.<br />\n",
        "<ul>\n",
        "<li>DSSS =&nbsp; Direct Sequence Spread Spectrum.</li>\n",
        "<li>FHSS = Frequency Hopping Spread Spectrum.</li>\n",
        "<li>OFDM = Orthogonal Frequency Division Multiplex.</li>\n",
        "<li>SC OFDM = Single Carrier Orthogonal Frequency Division Multiplex.</li>\n",
        "</ul>\n",
        "\n",
        "### Wireless IEEE 802.11a.\n",
        "<p align=\"justify\">Dirilis pada Oktober 1999 yang merupakan standar wireless network dengan maksimum data transfer rate 54 Mbps dan bekerja pada frekuensi 5GHz dengan menggunakan metode transmisi Orthogonal Frequency Division Multiplexing (OFDM, yang mengizinkan pentransmisian data secara paralel di dalam sub-frekuensi (resisten terhadap interferensi dengan gelombang lain).</p>\n",
        "\n",
        "<p align=\"justify\">Range maksimal untuk indoor hanya sekitar 15 meter / ± 50 ft, sedangkan untuk outdoor ± 100 ft / 30 meter, dan standar 802.11a tidak kompatibel dengan 802.11 b,g.</p>\n",
        "\n",
        "### Wireless IEEE 802.11b.\n",
        "<p align=\"justify\">Dirilis pada awal tahun 2000 yang merupakan standar wireless network dengan maksimum data transfer rate 5.5Mbps atau 11Mbps dan bekerja pada frekuensi 2,4GHz, dan dikenal juga dengan IEEE 802.11 HR.</p>\n",
        "\n",
        "<p align=\"justify\">Namun setelah dilakukan uji coba lapangan kecepatan maksimum yang didapat hanya mencapai 5.9Mbps pada protokol TCP, dan 7.1Mbps pada protokol UDP.</p>\n",
        "\n",
        "<p align=\"justify\">Metode transmisi yang digunakannya adalah DSSS, dan memiliki range area yang lebih panjang yaitu 150 feet / 45 meters di dalam indoor dan 300 feet / 90 meter dalam outdoor.</p>\n",
        "\n",
        "### Wireless IEEE 802.11g.\n",
        "<p align=\"justify\">Dirilis pada bulan Juni 2003 yang merupakan standar wireless network dengan maksimum data transfer rate 54 Mbps pada pita frekuensi 2,4 GHz yang hampir sama dengan 802.11b, tetapi metode transmisi yang digunakan adalah OFDM atau sama dengan metode yang digunakan oleh IEEE 802.11a.</p>\n",
        "\n",
        "<p align=\"justify\">Range area 150 feet / 45 meter untuk indoor dan 300 feet / 90 meter untuk outdoor.</p>\n",
        "\n",
        "### Wireless IEEE 802.11n.\n",
        "<p align=\"justify\">Dirilis pada 11 September 2009 yang merupakan standar wireless network dengan maksimum data transfer rate 600 Mbps pada pita frekuensi 2,4 GHz atau 5 GHz.</p>\n",
        "\n",
        "<p align=\"justify\">Namun setelah dilakukan uji coba oleh Wi-Fi Alliance kecepatan maksimum yang di dapat hanya  450 Mbps dan bekerja pada frekuensi 2,4 GHz atau 5 GHz, sama seperti teknologi MIMO (multiple-input multiple-output).</p>\n",
        "\n",
        "<p align=\"justify\">Range maksimal untuk indoor 70 meter sedangkan outdoor bisa mencapai 250 meter, dan kemungkinan besar Wi-Fi 802.11n akan diaplikasikan di perangkat router dan adapter.</p>\n",
        "\n",
        "### Wireless IEEE 802.11ac.\n",
        "<p align=\"justify\">Standar wireless memiliki throughput multi-stasiun minimal 1 gigabit per detik dan throughput single-link minimal 500 megabit per detik (500 Mbit / s).Dengan memperluas konsep antarmuka udara yang dipeluk oleh 802.11n =  bandwidth RF yang lebih luas (hingga 160 MHz), lebih banyak aliran spasial MIMO (hingga delapan), pengguna multi-user MIMO downlink (hingga empat klien), dan high- Modulasi densitas (sampai 256-QAM)</p>\n",
        "\n",
        "### Wireless IEEE 802.11ad.\n",
        "<p align=\"justify\">Dirilis pada 2012 oleh WiGig yang merupakan standar wireless network berkemampuan WiGig tri-band yang beroperasi pada pita 2,4, 5 dan 60 GHz dan mampu memberikan tingkat transfer data hingga 7 Gbit / s atau kira-kira secepat transmisi 8-band 802.11ac, dan lebih dari 11 kali lebih cepat dari pada tingkat 802.11n.</p>\n",
        "\n",
        "<p align=\"justify\">Aliansi Gigabit Nirkabel WiGig adalah asosiasi dagang yang mengembangkan dan mempromosikan penerapan teknologi komunikasi nirkabel multi-gigabit per detik yang beroperasi pada pita frekuensi 60 GHz tanpa izin, selanjutnya WiGig dimasukkan oleh Aliansi Wi-Fi pada bulan Maret 2013.</p>\n",
        "\n",
        "![Teknologi WiFi](https://www.siranap.com/wp-content/uploads/2016/08/ieee-802-11-wireless-lan-777x280.png)\n",
        "\n",
        "<p align=\"justify\">Memilih band merupakan cara untuk menentukan standart protokol yang akan digunakan oleh wireless interface. Selain menentukan standart protokol, band juga menentukan data rates yang bisa dilewatkan, channel frequencies dan lebar channel. Jika kita perhatikan, ada beberapa pilihan band yang menggunakan lebih dari satu protokol. Jika kita setting sebuah interface wireless dengan band yang menggunakan lebih dari satu protokol, maka interface wireless tersebut memberikan pilihan kepada client, protokol mana yang support dengan perangkat client tersebut.</p>"
      ]
    },
    {
      "cell_type": "markdown",
      "metadata": {
        "id": "UXPx_hlYiJWr",
        "colab_type": "text"
      },
      "source": [
        "## Frekuensi WiFi\n",
        "\n",
        "<p align=\"justify\">Wireless LAN menggunakan radio frekuensi yang membutuhkan media rambat yang juga harus bersih atau tanpa gangguan. Gangguan bisa berupa halangan seperti pohon,gedung,tembok,kaca atau interferensi frekuensi dari perangkat lain di sekitarnya.</p>\n",
        "\n",
        "<p align=\"justify\">Agar terbentuk link wireless yang bagus, gangguan ini harus dihindari. hal pertama yang harus dilakukan dilakukan adalah site survey terlebih dahulu untuk mengetahui kondisi lapangan secara fisik maupun penggunaan frekuensi yang sudah ada. Misalnya, adanya halangan berupa bukit, gedung, pohon, tembok, kaca dsb yang harus dihindari. Kita harus mengetahui juga frekuensi - frekuensi yang ada disekitar. jadi nantinya bisa dihindari penggunaanya agar tidak interferensi/overlapping. </p>\n",
        "\n",
        "<p align=\"justify\">Alokasi frekuensi sudah diatur dalam regulasi di setiap wilayah dan negara. Di Indonesia, untuk keperluan wireless LAN sudah dalokasikan dalam ISM Band pada frekuensi 2,4GHz dan 5,8GHz. Lebih detail nya, untuk 2,4GHz dibagi dalam beberapa channel dengan lebar channel masing - masing 22MHz.</p>\n",
        "\n",
        "![alt text](http://mikrotik.co.id/images/artikel/PemilihanBand/Overlapping.png)\n",
        "\n",
        "<p align=\"justify\">Begitu juga dengan yang 5GHz. Frekuensi 5Ghz juga dibagi menjadi beberapa channel. </p>\n",
        "\n",
        "![alt text](http://mikrotik.co.id/images/artikel/PemilihanBand/5GHz_Fix.png)\n",
        "\n",
        "<p align=\"justify\">Kita bisa menentukan penggunaan frekuensi pada perangkat kita agar tidak interferensi dengan yang lain. Berdasarkan pembagian channel pada 2,4GHz, dengan lebar channel standard, bisa dilihat ada beberapa channel yang saling overlapping. Hal ini lah yang harus dihindari agar tidak saling mengganggu dan wireless link terbentuk dengan baik. Misal, dari hasil scan ternyata sudah banyak yang menggunakan frek 2412 (channel 1) , maka kita bisa gunakan frek 2437 (channel 6). Kenapa tidak menggunakan 2417 (Ch.2) saja ? bukankah 2412 (Ch.1) dan 2417 (Ch.2) sudah beda.?\n",
        "Coba lihat lagi gambar pembagian channel tadi, antara 2412 (Ch.1) dan 2417 (Ch.2) ternyata masih overlapping, saling menganggu. Jika digambarkan lagi, agar tidak saling mengganggu bisa gunakan 2412 (Ch.1), 2437 (Ch. 6), 2462 (Ch. 11)</p>\n",
        "\n",
        "![alt text](http://mikrotik.co.id/images/artikel/PemilihanBand/2,4Ghz-2_Kecil.png)\n",
        "\n",
        "<p align=\"justify\">Nah, kalo untuk frek 2484 (Ch.14) merupakan channel yang tidak standard. Perangkat seperti gadget,laptop biasanya tidak support.</p>\n",
        "\n",
        "<p align=\"justify\">Mikrotik support untuk 2484 (ch.14). Akan tetapi kita tetap tidak boleh menggunakan frekuensi tersebut dengan sembarangan. Walaupun secara teknis perangkatnya support, tapi penggunaan frekuensi di luar alokasi jelas menyalahi aturan. Jadi mari gunakan frekuensi sesuai regulasi yang ada. Agar tidak saling mengganggu di frekuensi lain.</p>\n",
        "\n",
        "<p align=\"justify\">Tips diatas untuk pemilihan penggunaan frekuensi pada Band 2,4GHz. Bagaimana dengan 5GHz ?. Kebanyakan perangkat seperti laptop, gadget sebelumnya memang hanya support untuk 2,4GHz saja. Akan tetapi beberapa gadget saat ini sudah support 5GHz. Begitu juga untuk link perangkat wireless LAN saat ini juga sudah banyak yang beralih ke 5GHz. Berbeda dengan pembagian channel pada 2,4GHz, pembagian channel pada 5GHz tidak ada yang saling overlapping. Untuk mengcover laptop atau gadget, bisa gunakan frek 5725 - 5785 MHz. Kebanyakan gadget saat ini support di frekuensi tersebut. </p>"
      ]
    },
    {
      "cell_type": "markdown",
      "metadata": {
        "id": "irN65cQjiPMD",
        "colab_type": "text"
      },
      "source": [
        "## Channel Width\n",
        "\n",
        "<p align=\"justify\">Sebuah Wireless Protokol dengan tipe N yang dapat melewatkan data dengan throughput bandwidth yang cukup besar. Namun, bagaimana jika kita mengubah parameter 'Channel Width' dengan memperbesar atau memperkecil nilainya. Biasanya channel standart akan menggunakan lebar channel sebesar 22Mhz, terkadang dibulatkan menjadi 20MHz. Parameter channel width berbanding lurus dengan throughput data, artinya semakin lebar channel width maka semakin besar pula thorughput yang bisa dilewatkan. Channel width bisa diibaratkan seperti sebuah jalan, dan data yang lewat adalah kendaraan yang hendak melewati jalan tersebut. Maka semakin luas jalan, semakin banyak pula kendaraan yang bisa lewat. Akan tetapi, ukuran channel width juga memiliki konsekuensi. Semakin besar channel width kemungkinan terjadinya interferensi juga semakin besar. Kita bisa menentukan ukuran channel width dengan mempertimbangkan kepadatan frekuensi di area yang akan kita bangun link wireless. Jika kondisi pada area jaringan kita ternyata sudah cukup padat, kita bisa memperkecil nilai channel width supaya interferensi bisa diminimalisir. </p>\n",
        "\n",
        "![alt text](https://citraweb.com/images/artikel/Channel_width/40Mhz_Above.png)\n"
      ]
    },
    {
      "cell_type": "markdown",
      "metadata": {
        "id": "FLrPMMTPiXif",
        "colab_type": "text"
      },
      "source": [
        "## Mode Akses Koneksi WiFi\n",
        "\n",
        "<p align=\"justify\">Ada 2 mode akses koneksi Wi-fi, yaitu</p>\n",
        "\n",
        "\n",
        "\n",
        "*  Ad Hoc\n",
        "<p align=\"justify\">Mode koneksi ini adalah mode di mana beberapa komputer terhubung secara langsung, atau lebih dikenal dengan istilah Peer-to-Peer. Keuntungannya, lebih murah dan praktis bila yang terkoneksi hanya 2 atau 3 komputer, tanpa harus membeli access point.</p>\n",
        "\n",
        "![alt text](https://vignette.wikia.nocookie.net/itlaw/images/5/5a/Wireless_ad_hoc.png/revision/latest?cb=20101202163910)\n",
        "\n",
        "*  Infrastruktur  \n",
        "<p align=\"justify\">Menggunakan Access Point yang berfungsi sebagai pengatur lalu lintas data, sehingga memungkinkan banyak Client dapat saling terhubung melalui jaringan (Network).</p>\n",
        "\n",
        "![alt text](http://www.fedu.uec.ac.jp/~thavisak/Tech-Link/IEEE802.11b/mode0000.jpg)\n",
        "\n",
        "---"
      ]
    },
    {
      "cell_type": "markdown",
      "metadata": {
        "id": "t8sCfDK0ifSQ",
        "colab_type": "text"
      },
      "source": [
        "## Arsitektur Jaringan \n",
        "\n",
        "<p align=\"justify\">Menggunakan ESP8266 sebagai mikrokontroler sederhana itu bagus, tetapi alasan mengapa kebanyakan orang menggunakannya, adalah kemampuan Wi-Fi-nya. Dalam bab ini, kita akan terjun ke dunia protokol jaringan yang menakjubkan, seperti Wi-Fi, TCP, UDP, HTTP, DNS ... Semua akronim ini mungkin mengintimidasi Anda, tetapi saya akan mencoba yang terbaik untuk menjelaskannya langkah- selangkah demi selangkah dan dengan cara yang mudah.</p>\n",
        "\n",
        "<p align=\"justify\">Beberapa paragraf ditulis miring . Ini memberikan beberapa informasi tambahan, tetapi tidak penting untuk memahami fungsi Wi-Fi ESP, jadi jangan frustrasi jika ada hal-hal yang tidak Anda pahami.</p>\n",
        "\n",
        "<p align=\"justify\">Sistem yang oleh sebagian besar orang disebut 'Internet' bukan hanya satu protokol: ini adalah setumpuk seluruh lapisan protokol, sering disebut sebagai model TCP / IP . Kami akan membahas lapisan-lapisan yang berbeda ini, karena kami perlu memahami bagaimana ESP8266 kami berkomunikasi dengan perangkat lain di jaringan.</p>\n",
        "\n",
        " <table style=\"box-sizing: border-box; border-spacing: 0px; border-collapse: collapse; margin-top: 0px; margin-bottom: 16px; display: block; overflow: auto; color: rgb(51, 51, 51); font-family: -apple-system, BlinkMacSystemFont, &quot;Segoe UI&quot;, Helvetica, Arial, sans-serif, &quot;Apple Color Emoji&quot;, &quot;Segoe UI Emoji&quot;, &quot;Segoe UI Symbol&quot;;\">\n",
        "           <thead style=\"box-sizing: border-box;\">\n",
        "               <tr style=\"box-sizing: border-box; border-top: 1px solid rgb(204, 204, 204);\">\n",
        "                   <th style=\"box-sizing: border-box; padding: 6px 13px; border: 1px solid rgb(221, 221, 221);\">Layer</th>\n",
        "                   <th style=\"box-sizing: border-box; padding: 6px 13px; border: 1px solid rgb(221, 221, 221);\">Protocols</th>\n",
        "               </tr>\n",
        "           </thead>\n",
        "           <tbody style=\"box-sizing: border-box;\">\n",
        "               <tr style=\"box-sizing: border-box; border-top: 1px solid rgb(204, 204, 204);\">\n",
        "                   <td style=\"padding: 6px 13px; box-sizing: border-box; border: 1px solid rgb(221, 221, 221);\">Application</td>\n",
        "                   <td style=\"padding: 6px 13px; box-sizing: border-box; border: 1px solid rgb(221, 221, 221);\">HTTP, FTP, mDNS, WebSocket, OSC ...</td>\n",
        "               </tr>\n",
        "               <tr style=\"box-sizing: border-box; background-color: rgb(248, 248, 248); border-top: 1px solid rgb(204, 204, 204);\">\n",
        "                   <td style=\"padding: 6px 13px; box-sizing: border-box; border: 1px solid rgb(221, 221, 221);\">Transport</td>\n",
        "                   <td style=\"padding: 6px 13px; box-sizing: border-box; border: 1px solid rgb(221, 221, 221);\">TCP, UDP</td>\n",
        "               </tr>\n",
        "               <tr style=\"box-sizing: border-box; border-top: 1px solid rgb(204, 204, 204);\">\n",
        "                   <td style=\"padding: 6px 13px; box-sizing: border-box; border: 1px solid rgb(221, 221, 221);\">Internet</td>\n",
        "                   <td style=\"padding: 6px 13px; box-sizing: border-box; border: 1px solid rgb(221, 221, 221);\">IP</td>\n",
        "               </tr>\n",
        "               <tr style=\"box-sizing: border-box; background-color: rgb(248, 248, 248); border-top: 1px solid rgb(204, 204, 204);\">\n",
        "                   <td style=\"padding: 6px 13px; box-sizing: border-box; border: 1px solid rgb(221, 221, 221);\">Network Access (Link)</td>\n",
        "                   <td style=\"padding: 6px 13px; box-sizing: border-box; border: 1px solid rgb(221, 221, 221);\">Ethernet, Wi-Fi ...</td>\n",
        "               </tr>\n",
        "           </tbody>\n",
        "       </table>\n"
      ]
    },
    {
      "cell_type": "markdown",
      "metadata": {
        "id": "Ye4kSd2yj8Ii",
        "colab_type": "text"
      },
      "source": [
        "### Layer Network Access (Data Link)\n",
        "\n",
        "<p align=\"justify\">Layer ini berisi tautan fisik antara dua perangkat, kabel Ethernet, misalnya, atau koneksi Wi-Fi. Ini adalah lapisan yang paling dekat dengan perangkat keras.</p>\n",
        "  \n",
        "<p align=\"justify\">Untuk menghubungkan ESP8266 ke jaringan, Anda harus membuat tautan Wi-Fi. Ini dapat terjadi dalam dua cara berbeda:</p>\n",
        "\n",
        "1.   ESP8266 terhubung ke titik akses nirkabel (WAP atau cukup AP). AP dapat menjadi bawaan untuk modem atau router Anda, misalnya. \n",
        "Dalam konfigurasi ini, ESP bertindak seperti stasiun nirkabel .\n",
        "2.   ESP8266 bertindak sebagai titik akses dan stasiun nirkabel dapat terhubung ke sana. Stasiun-stasiun ini dapat berupa laptop Anda, smartphone, atau bahkan ESP lain dalam mode stasiun.\n",
        "\n",
        "<p align=\"justify\">Setelah tautan Wi-Fi dibuat, ESP8266 adalah bagian dari jaringan area lokal (LAN). Semua perangkat pada LAN dapat saling berkomunikasi.\n",
        "Sebagian besar waktu, AP terhubung ke jaringan Ethernet fisik juga, ini berarti bahwa ESP8266 juga dapat berkomunikasi dengan perangkat yang terhubung ke AP (modem / router) melalui koneksi Ethernet kabel (komputer desktop, konsol game dan set-top box, misalnya).</p>\n",
        "<p align=\"justify\">Jika ESP8266 dalam mode titik akses, ia dapat berkomunikasi dengan stasiun apa pun yang terhubung dengannya, dan dua stasiun (misalnya laptop dan smartphone) juga dapat berkomunikasi satu sama lain.</p>\n",
        "\n",
        "<p align=\"justify\">ESP dapat digunakan dalam mode AP-only, station-only, atau AP + station.</p>\n",
        "\n",
        "<p align=\"justify\"><b> Layer Network Access (Link) adalah tautan fisik antar perangkat: dalam kasus ESP8266, ini adalah koneksi WiFi. ESP dapat bertindak sebagai stasiun dan terhubung ke titik akses, atau bertindak sebagai titik akses dan membiarkan perangkat lain terhubung dengannya.</b></p>"
      ]
    },
    {
      "cell_type": "markdown",
      "metadata": {
        "id": "Gbe0onvRivkK",
        "colab_type": "text"
      },
      "source": [
        "### Layer Internet (Network)\n",
        "\n",
        "<p align=\"justify\">Meskipun perangkat sekarang terhubung secara fisik (baik melalui kabel aktual (Ethernet) atau melalui gelombang radio (Wi-Fi)), mereka belum dapat berbicara satu sama lain, karena mereka tidak memiliki cara untuk mengetahui ke mana harus mengirim pesan ke .\n",
        "Di situlah Internet Protocol (IP) masuk. Setiap perangkat di jaringan memiliki alamat IP pribadi. Server DHCP (Dynamic Host Configuration Protocol Server) memastikan bahwa alamat-alamat ini unik.\n",
        "Ini berarti bahwa Anda sekarang dapat mengirim pesan ke alamat tertentu.</p>\n",
        "\n",
        "<p align=\"justify\">Ada dua versi dari Protokol Internet: IPv4 dan IPv6. IPv6 adalah versi peningkatan IPv4 dan memiliki lebih banyak alamat daripada IPv4 (karena ada lebih banyak perangkat daripada alamat IPv4 yang tersedia). Pada artikel ini, kita hanya akan berbicara tentang alamat IPv4, karena sebagian besar LAN masih menggunakannya.</p>\n",
        "\n",
        "<p align=\"justify\">Alamat IP terdiri dari 4 angka, misalnya 192.168.1.5 adalah alamat IPv4 yang valid. Sebenarnya terdiri dari dua bagian: bagian pertama adalah 192.168.1 , ini adalah alamat jaringan lokal. Digit terakhir, 5 dalam hal ini, khusus untuk perangkat.</p>\n",
        "\n",
        "<p align=\"justify\">Dengan menggunakan alamat IP, kita dapat menemukan ESP8266 di jaringan, dan mengirim pesan ke sana. ESP juga dapat menemukan komputer atau telepon kami, jika mengetahui alamat IP masing-masing.</p>\n",
        "\n",
        "#### Subnet Mask (opsional)\n",
        "<p align=\"justify\">Subdivisi dari alamat IP ini ditentukan oleh sub-net mask, sering ditulis sebagai 255.255.255.0. Anda dapat melihat bahwa itu terdiri dari empat angka, sama seperti alamat IP. Jika bagian dari sub-net mask adalah 255, itu berarti bahwa bagian yang sesuai dari alamat IP adalah bagian dari alamat jaringan, jika itu 0, bagian IP yang sesuai adalah bagian dari alamat dari alamat tertentu. Notasi yang berbeda dengan \"IP: 192.168.1.5, sub-net mask: 255.255.255.0\" akan menjadi \"192.168.1.5/24\", karena representasi biner dari sub-net mask adalah 11111111.11111111.111111111100000000, dan memiliki prefiks /24.\n",
        "<p align=\"justify\">Jika Anda ingin tahu lebih banyak tentang subnet, saya sarankan Anda membaca artikel Wikipedia .\n",
        "(Tip cepat untuk membantu Anda mengingat: ini disebut sub-net mask, karena jika Anda melakukan operasi bitwise AND pada alamat IP dan sub-net mask (yaitu menggunakan topeng sub-net sebagai topeng untuk alamat IP ), Anda mendapatkan alamat sub-net-nya.)</p>\n",
        "\n",
        "#### Alamat MAC dan ARP (opsional)\n",
        "<p align=\"justify\">Sebenarnya tidak mungkin mengirim paket langsung ke mesin lain hanya dengan menggunakan alamat IP. Untuk mengirim paket ke perangkat tertentu di LAN (Wi-Fi atau Ethernet), Anda harus tahu alamat MAC-nya. Alamat MAC adalah nomor unik yang unik untuk setiap perangkat jaringan, dan tidak pernah berubah, ini tertanam dalam chip jaringan. Ini berarti bahwa setiap ESP8266, setiap kartu jaringan, setiap smartphone ... yang pernah dibuat, memiliki alamat MAC yang berbeda.</p>\n",
        "<p align=\"justify\">Jadi sebelum ESP dapat mengirim paket ke ponsel cerdas Anda misalnya, ia harus mengetahui alamat MAC-nya. Belum tahu ini, ESP hanya tahu alamat IP smartphone, katakanlah 192.168.1.6. Untuk melakukan ini, ESP mengirim pesan siaran (yaitu pesan yang ditujukan ke semua perangkat di LAN) yang mengatakan \"Saya mencari alamat MAC perangkat dengan alamat IP 192.168.1.6\". ESP juga menyertakan alamat IP dan MACnya sendiri dengan pesan tersebut. Ketika smartphone menerima pesan siaran ini, ia mengenali alamat IP-nya sendiri, dan merespons ESP dengan mengirimkan alamat MAC-nya sendiri. Sekarang ESP dan telepon sama-sama mengetahui alamat IP dan MAC masing-masing, dan mereka dapat berkomunikasi menggunakan alamat IP. Metode ini disebut Addres Resolution Protocol, atau ARP.</p>\n",
        "\n",
        "#### Bagaimana dengan Internet?\n",
        "<p align=\"justify\">Seperti yang mungkin Anda perhatikan, saya hanya berbicara tentang jaringan area lokal , ini adalah komputer di rumah Anda sendiri. Jadi bagaimana ESP8266 dapat berkomunikasi dengan Internet, Anda mungkin bertanya? Ya, ada banyak infrastruktur jaringan yang terlibat dalam 'Internet', dan mereka semua mematuhi aturan IP, untuk memastikan sebagian besar paket Anda tiba di tujuan di sana. Tentu saja tidak sesederhana itu, ada banyak hal yang terjadi, seperti perutean dan Terjemahan Alamat Jaringan (NAT), tetapi itu berada di luar cakupan artikel ini, dan itu bukan sesuatu yang harus dikhawatirkan oleh kebanyakan orang.</p>\n",
        "\n",
        "<p align=\"justify\"><b>Lapisan Internet menggunakan alamat IP untuk mengetahui di mana ia harus mengirim data. Ini berarti bahwa dua perangkat sekarang dapat saling mengirim paket data, bahkan melalui Internet (routing paket data).</b></p>\n"
      ]
    },
    {
      "cell_type": "markdown",
      "metadata": {
        "id": "D4BcR20hmt7j",
        "colab_type": "text"
      },
      "source": [
        "### Layer Transport\n",
        "\n",
        "<p align=\"justify\">Berbagai perangkat dalam jaringan melakukan yang terbaik untuk mengirimkan paket-paket IP ini ke penerima, namun tidak jarang sebuah paket hilang, sehingga tidak akan pernah tiba. Atau paket mungkin rusak di jalan: data tidak lagi benar. IP juga tidak dapat menjamin bahwa paket-paket tersebut tiba dalam urutan yang sama dengan saat mereka dikirim.\n",
        "Ini berarti bahwa kita tidak dapat mengirim pesan dengan andal hanya dengan menggunakan tautan dan lapisan Internet, karena kita tidak pernah tahu kapan dan apakah suatu paket akan tiba, atau mengetahui dengan pasti bahwa paket yang diterima benar. \n",
        "Kita membutuhkan lapisan ketiga di atas lapisan Internet: lapisan Transport. </p>\n",
        "\n",
        "<p align=\"justify\">Ada terutama dua protokol yang membentuk lapisan ketiga ini: Transmission Control Protocol (TCP) dan User Datagram Protocol (UDP).\n",
        "TCP memastikan bahwa semua paket diterima, bahwa paket-paket sudah tertata , dan bahwa paket-paket yang rusak dikirimkan kembali. Ini berarti bahwa itu dapat digunakan untuk komunikasi antara beberapa aplikasi, tanpa harus khawatir tentang integritas data atau kehilangan paket. Inilah mengapa ini digunakan untuk hal-hal seperti mengunduh halaman web, mengirim email, mengunggah file dll.\n",
        "UDP di sisi lain, tidak menjamin bahwa setiap paket mencapai tujuannya, namun memeriksa kesalahan , tetapi ketika menemukan satu, itu hanya menghancurkan paket, tanpa mengirim ulang. Ini berarti bahwa itu tidak dapat diandalkan seperti TCP , tetapi lebih cepat, dan memiliki latensi yang jauh lebih rendah , karena tidak memerlukan koneksi terbuka untuk mengirim pesan, seperti TCP. Itu sebabnya digunakan dalam obrolan suara dan video, dan misalnya di game online.\n",
        "Jika Anda ingin tahu lebih banyak tentang perbedaan antara TCP dan UDP, lihat [video ini](https://www.youtube.com/watch?v=Vdc8TCESIg8). </p>\n",
        "\n",
        "<p align=\"justify\">Protokol IP tidak dapat diandalkan, dan tidak memiliki pemeriksaan kesalahan. TCP memecahkan ini dengan mengirim kembali paket yang hilang atau rusak, dan memesan paket yang diterima dengan urutan yang salah. UDP juga memeriksa paket-paket yang rusak, tetapi tidak mengirimnya kembali, sehingga memiliki latensi lebih rendah daripada TCP.</p>"
      ]
    },
    {
      "cell_type": "markdown",
      "metadata": {
        "id": "uweiQDn_nmdz",
        "colab_type": "text"
      },
      "source": [
        "### Layer Application\n",
        "\n",
        "<p align=\"justify\">Kami sekarang memiliki komunikasi yang andal menggunakan TCP, tetapi masih ada satu masalah. Pikirkan seperti ini: Anda mengirim surat, dan TCP menjamin bahwa itu akan sampai di tujuannya, tetapi jika penerima tidak mengerti bahasa yang ditulisnya, ia tidak akan tahu apa yang harus dilakukan dengan itu.\n",
        "Dengan kata lain, kita membutuhkan lapisan protokol keempat, agar dua program dapat saling berkomunikasi.\n",
        "Ada banyak protokol berbeda di luar sana, tetapi sebagian besar kita akan fokus pada protokol untuk server web dan browser (akan dibahas pada pertemuan selanjutnya). </p>"
      ]
    },
    {
      "cell_type": "markdown",
      "metadata": {
        "id": "3Y0rQUlgvvtB",
        "colab_type": "text"
      },
      "source": [
        "## Topologi Jaringan Star dan Mesh pada ESP8266\n",
        "\n",
        "<p>Star</p>\n",
        "\n",
        "![Start](http://m.eet.com/media/1055835/dust-fig1.gif)\n",
        "\n",
        "<p>Mesh</p>\n",
        "\n",
        "![Mesh](https://www.geekstips.com/wp-content/uploads/2016/12/farmer.jpg)"
      ]
    },
    {
      "cell_type": "markdown",
      "metadata": {
        "id": "sX1l9g7sw5_e",
        "colab_type": "text"
      },
      "source": [
        "## Implementasi Jaringan ESP8266\n",
        "\n",
        "![alt text](https://www.geekstips.com/wp-content/uploads/2016/12/meshmap.jpg)\n",
        "\n"
      ]
    },
    {
      "cell_type": "markdown",
      "metadata": {
        "id": "HYKcn4BUSVT4",
        "colab_type": "text"
      },
      "source": [
        "## Konsumsi Baterai\n",
        "\n",
        "[Hitungan Konsumsi Baterai pada ESP8266](http://www.of-things.de/battery-life-calculator.php)\n",
        "\n",
        "\n",
        "---\n",
        "\n"
      ]
    },
    {
      "cell_type": "markdown",
      "metadata": {
        "id": "-5UrgtWsolE3",
        "colab_type": "text"
      },
      "source": [
        "# Praktikum Modul 17 - WLAN\n",
        "\n",
        "---\n",
        "\n"
      ]
    },
    {
      "cell_type": "markdown",
      "metadata": {
        "id": "vTOF8ubFxsNq",
        "colab_type": "text"
      },
      "source": [
        "## Persiapan Alat dan Bahan\n",
        "\n",
        "\n",
        "1.   NodeMCU v.3.0\n",
        "2.   Micro USB\n",
        "3.   Wireless Router \n",
        "4.   Notebook \n",
        "5.   Software Arduino IDE\n",
        "6.   Kabel Jumper\n",
        "7.   Arduino Nano\n",
        "\n",
        "<p align=\"justify\">Pastikan library dan board manager dari ESP8266 sudah terinstall di Software Arduino IDE. Dengan cara memasukan script berikut pada bagian Additional Boards Manager URL dari menu <b>File > Preferences</b>.</p>\n"
      ]
    },
    {
      "cell_type": "code",
      "metadata": {
        "id": "B9kCfW5k2Aw4",
        "colab_type": "code",
        "colab": {}
      },
      "source": [
        "http://arduino.esp8266.com/stable/package_esp8266com_index.json"
      ],
      "execution_count": 0,
      "outputs": []
    },
    {
      "cell_type": "markdown",
      "metadata": {
        "id": "hLQkVtMT2DIV",
        "colab_type": "text"
      },
      "source": [
        "## Pin Out dari Arduino Nano dan NodeMCU V3\n",
        "\n",
        "\n",
        "**Node MCU**\n",
        "![alt text](https://embeddednesia.com/v1/wp-content/uploads/2017/04/esp8266-nodemcu-dev-kit-v3-pins-700x540.jpg)\n",
        "\n",
        "**Arduino Nano**\n",
        "![alt text](https://www.theengineeringprojects.com/wp-content/uploads/2018/06/introduction-to-arduino-nano-13-1.png)\n",
        "\n"
      ]
    },
    {
      "cell_type": "markdown",
      "metadata": {
        "id": "BKkE8eAWAiuF",
        "colab_type": "text"
      },
      "source": [
        "## Praktikum 1 - ESP8266 Arduino IDE – Hostspot/Access Point Mode\n",
        "\n",
        "---\n",
        "\n",
        "\n",
        "\n",
        "![alt text](https://arduino-esp8266.readthedocs.io/en/latest/_images/esp8266-soft-access-point.png)\n",
        "\n",
        "<p align=\"justify\">Pada pembahasan kali ini kita akan membahas mengenai fungsi ESP8266, dimana ESP8266 akan kita buat menjadi Access Point atau Hotspot dengan menggunakan program yang kita buat pada Arduino IDE. Jadi setiap komputer ataupun perangkat jaringan lainnya dapat terhubung dengan jaringan yang dibuat oleh perangkat ESP8266 tersebut.</p>\n",
        "\n",
        "<p align=\"justify\">Berikut merupakan Script yang digunakan untuk membuat Access Point Hotspot pada ESP8266 :</p>"
      ]
    },
    {
      "cell_type": "code",
      "metadata": {
        "id": "b0w12TuHF-KQ",
        "colab_type": "code",
        "colab": {}
      },
      "source": [
        "#include <ESP8266WiFi.h>\n",
        " \n",
        "const char* ssid = \"\";      // Nama AP/Hotspot\n",
        "const char* password = \"\";    // Password AP/Hotspot\n",
        " \n",
        "WiFiServer server(80);\n",
        "void setup() {\n",
        "  Serial.begin(115200);\n",
        "  delay(10);\n",
        "  \n",
        " // Mengatur WiFi ----------------------------------------------------------\n",
        "  Serial.println();\n",
        "  Serial.print(\"Configuring access point...\");\n",
        "   \n",
        "  WiFi.mode(WIFI_AP);             // Mode AP/Hotspot\n",
        "  WiFi.softAP(ssid, password);\n",
        "  \n",
        " // Start the server -------------------------------------------------------\n",
        "  server.begin();\n",
        "  Serial.println(\"Server dijalankan\");\n",
        "  \n",
        " // Print the IP address ---------------------------------------------------\n",
        "  Serial.println(WiFi.localIP());\n",
        " }\n",
        " \n",
        "void loop() {\n",
        "  // put your main code here, to run repeatedly:\n",
        " \n",
        "}"
      ],
      "execution_count": 0,
      "outputs": []
    },
    {
      "cell_type": "markdown",
      "metadata": {
        "id": "YKVK74BwHK2k",
        "colab_type": "text"
      },
      "source": [
        "<p align=\"justify\">Jalankan dan amati hasilnya melalui serial monitor !\n",
        "  Jangan lupa lakukan perintah <b>ping</b> dari command prompt / shell dari laptop Anda ke IP dari NodeMCU! Laporkan hasil dari perintah <b>ping</b> tersebut !</p>"
      ]
    },
    {
      "cell_type": "markdown",
      "metadata": {
        "id": "ghbwF89CGIRr",
        "colab_type": "text"
      },
      "source": [
        "### Pertanyaan :\n",
        "\n",
        "1.   Berapa jumlah maksimal client atau perangkat yang dapat terhubung ke NodeMCU dalam mode AP?\n",
        "2.   Berapa waktu rata-rata proses ping dari laptop ke AP NodeMCU?\n"
      ]
    },
    {
      "cell_type": "markdown",
      "metadata": {
        "id": "189AmUICR1yF",
        "colab_type": "text"
      },
      "source": [
        "\n",
        "\n",
        "---\n",
        "\n"
      ]
    },
    {
      "cell_type": "markdown",
      "metadata": {
        "id": "aprJZmtSIGNW",
        "colab_type": "text"
      },
      "source": [
        "## Praktikum 2 - ESP8266 Arduino IDE – WiFi Station Mode\n",
        "\n",
        "---\n",
        "\n",
        "\n",
        "![alt text](https://arduino-esp8266.readthedocs.io/en/latest/_images/esp8266-station.png)\n",
        "\n",
        "<p align=\"justify\">Pada pembahasan Sebelumnya kita membahas mengenai membuatan Access Poin Hotspot Mode pada ESP8266. Kali ini kita akan membahas mengenai membuat WiFi Station Mode ESP8266 pada Arduino IDE. Jadi nantinya perangkat ESP8266 kita akan dapat terhubung dengan Access Point Router yang sudah kita setting sebelumnya.</p>\n",
        "\n",
        "<p>Berikut merupakan Script yang digunakan untuk membuat WiFi Station Mode pada ESP8266 :</p>\n",
        "\n"
      ]
    },
    {
      "cell_type": "code",
      "metadata": {
        "id": "O7JU76q1JWr_",
        "colab_type": "code",
        "colab": {}
      },
      "source": [
        "#include <ESP8266WiFi.h>\n",
        " \n",
        "const char* ssid = \"\";       // Nama SSID AP/Hotspot\n",
        "const char* password = \"\";       // Password Wifi\n",
        " \n",
        "void setup() {\n",
        "  Serial.begin(115200);\n",
        "  delay(10);\n",
        " \n",
        "// Connect to WiFi network ------------------------------------------------\n",
        "  Serial.println();\n",
        "  Serial.println();\n",
        "  Serial.print(\"Connecting to \");\n",
        "  Serial.println(ssid);\n",
        " \n",
        "// Mengatur WiFi ----------------------------------------------------------\n",
        "  WiFi.mode(WIFI_STA);                      // Mode Station\n",
        "  WiFi.begin(ssid, password);               // Mencocokan SSID dan Password\n",
        "  \n",
        "  while (WiFi.status() != WL_CONNECTED) {\n",
        "    delay(500);\n",
        "    Serial.print(\".\");\n",
        "  }\n",
        " \n",
        "// Print status Connect ---------------------------------------------------\n",
        "  Serial.println(\"\");\n",
        "  Serial.println(\"WiFi connected\");  \n",
        "  Serial.println(\"IP address: \");\n",
        "  Serial.println(WiFi.localIP());\n",
        "}\n",
        " \n",
        "void loop() {\n",
        " \n",
        "}"
      ],
      "execution_count": 0,
      "outputs": []
    },
    {
      "cell_type": "markdown",
      "metadata": {
        "id": "_hf0IxbvJbx4",
        "colab_type": "text"
      },
      "source": [
        "<p align=\"justify\">Setelah proses selesai maka hasilnya dapat kita lihat pada serial monitor Arduino IDE, apabila muncul titik pada layar itu tandanya wifi belum ditemukan. indikator konek pada wifi akan ditandai dengan munculnya report WiFi connected diikuti dengan IP Address yang didapatkan pada layar serial monitor.</p>\n",
        "\n",
        "<p align=\"justify\">Jalankan dan amati hasilnya melalui serial monitor !\n",
        "  Jangan lupa lakukan perintah <b>ping</b> dari command prompt / shell dari laptop Anda ke IP dari NodeMCU! Laporkan hasil dari perintah <b>ping</b> tersebut !</p>"
      ]
    },
    {
      "cell_type": "markdown",
      "metadata": {
        "colab_type": "text",
        "id": "DnhJXI53KCI-"
      },
      "source": [
        "### Pertanyaan :\n",
        "\n",
        "1.   Berapa jumlah maksimal client atau perangkat yang dapat terhubung ke Wireless Router?\n",
        "2.   Berapa waktu rata-rata proses ping dari laptop ke AP NodeMCU?\n"
      ]
    },
    {
      "cell_type": "markdown",
      "metadata": {
        "id": "LJim58YvR3SS",
        "colab_type": "text"
      },
      "source": [
        "\n",
        "\n",
        "---\n",
        "\n"
      ]
    },
    {
      "cell_type": "markdown",
      "metadata": {
        "id": "c-o_MPB4K-gM",
        "colab_type": "text"
      },
      "source": [
        "## Praktikum 3 - ESP8266 Arduino IDE – Both Mode (WiFi Station & AP/Hotspot)\n",
        "\n",
        "![alt text](https://arduino-esp8266.readthedocs.io/en/latest/_images/esp8266-station-soft-access-point.png)\n",
        "\n",
        "<p align=\"justify\">Jika pada pembahasan Sebelumnya kita telah membahas mengenai Membuatan Access Poin Hotspot Mode pada ESP8266 dan  WiFi Station Mode ESP8266 pada Arduino IDE. Kali ini kita akan membahas cara untuk menjalankan keduanya dalam keadaan bersamaan, dimana modul ini nantinya akan menjadi station (Penerima WiFi) sekaligus memancarkan WiFi Hotspot. Fitur Ini merupakan salah satu keunggulan dari modul ESP8266 yang dapat menjalankan kedua mode ini secara bersamaan, nama mode ini dinamakan Both Mode pada ESP8266 (Transceiver Mode).</p>\n",
        "\n",
        "<p>Berikut merupakan Script yang digunakan untuk membuat Both Mode pada ESP8266 :</p>\n"
      ]
    },
    {
      "cell_type": "code",
      "metadata": {
        "id": "SZ3tAkcmLUs4",
        "colab_type": "code",
        "colab": {}
      },
      "source": [
        "#include <ESP8266WiFi.h>\n",
        " \n",
        "const char* APssid = \"\";\n",
        "const char* APpassword = \"\";\n",
        "const char* ssid = \"\";\n",
        "const char* password = \"\";\n",
        " \n",
        "WiFiServer server(80);\n",
        " \n",
        "void setup() {\n",
        "  Serial.begin(115200);\n",
        "  delay(10);\n",
        "  \n",
        " // Mengatur WiFi ----------------------------------------------------------\n",
        "  Serial.println();\n",
        "  Serial.print(\"Configuring access point...\");\n",
        "  \n",
        "  WiFi.mode(WIFI_AP_STA);\n",
        "  WiFi.softAP(APssid, APpassword);\n",
        "  WiFi.begin(ssid, password);\n",
        " \n",
        "  while (WiFi.status() != WL_CONNECTED) {\n",
        "    delay(500);\n",
        "    Serial.print(\".\");\n",
        "   }\n",
        "  \n",
        "  Serial.println(\"\");\n",
        "  Serial.println(\"WiFi connected\");\n",
        "   \n",
        " // Start the server -------------------------------------------------------\n",
        "  server.begin();\n",
        "  Serial.println(\"Server dijalankan\");\n",
        "   \n",
        " // Print the IP address ---------------------------------------------------\n",
        "  Serial.println(WiFi.localIP());\n",
        "  Serial.println(WiFi.softAPIP());\n",
        "}\n",
        " \n",
        "void loop() {\n",
        "  // put your main code here, to run repeatedly:\n",
        " \n",
        "}"
      ],
      "execution_count": 0,
      "outputs": []
    },
    {
      "cell_type": "markdown",
      "metadata": {
        "colab_type": "text",
        "id": "_ys5y3BwLgt6"
      },
      "source": [
        "### Pertanyaan :\n",
        "\n",
        "1.   Berapa jumlah maksimal client atau perangkat yang dapat terhubung ke NodeMCU pada mode AP?\n",
        "2.   Berapa waktu rata-rata proses ping dari laptop ke AP NodeMCU dan Wireless Router?\n"
      ]
    },
    {
      "cell_type": "markdown",
      "metadata": {
        "id": "BdB42V5PR49F",
        "colab_type": "text"
      },
      "source": [
        "\n",
        "\n",
        "---\n",
        "\n"
      ]
    },
    {
      "cell_type": "markdown",
      "metadata": {
        "id": "64Xq3hRAMRcn",
        "colab_type": "text"
      },
      "source": [
        "## Praktikum 4 - ESP8266 Arduino IDE – Static IP Address\n",
        "\n",
        "---\n",
        "\n",
        "\n",
        "\n",
        "![alt text](https://www.warriornux.com/wp-content/uploads/2019/05/41.-ESP8266-Static-IP-Address.png.webp)\n",
        "\n",
        "<p align=\"justify\">Ubahlah konfigurasi alamat IP dari DHCP pada kode program <b>Praktikum 2</b> ke mode statik dengan konfigurasi berikut:</p>\n",
        "\n",
        "1.   IP Address NodeMCU : 192.168.5.10\n",
        "2.   Subnet Mask NodeMCU : 255.255.255.0\n",
        "3.   Gateway NodeMCU : 192.168.5.1 (Alamat IP dari Wireless Router)\n",
        "\n",
        "Jalankan dan amati hasilnya !\n",
        "\n"
      ]
    },
    {
      "cell_type": "markdown",
      "metadata": {
        "id": "MJRTTbEjR6gY",
        "colab_type": "text"
      },
      "source": [
        "\n",
        "\n",
        "---\n",
        "\n"
      ]
    },
    {
      "cell_type": "markdown",
      "metadata": {
        "id": "AE7LEX1hN-EU",
        "colab_type": "text"
      },
      "source": [
        "## Praktikum 5 - Koneksi ESP8266 Mode Station ke Multi Access Point (Sinyal Terkuat)\n",
        "\n",
        "---\n",
        "\n",
        "Jalankan kode berikut dan amati hasilnya !\n",
        "\n"
      ]
    },
    {
      "cell_type": "code",
      "metadata": {
        "id": "n5tvEIOcOWct",
        "colab_type": "code",
        "colab": {}
      },
      "source": [
        "#include <ESP8266WiFi.h>        // Include the Wi-Fi library\n",
        "#include <ESP8266WiFiMulti.h>   // Include the Wi-Fi-Multi library\n",
        "\n",
        "ESP8266WiFiMulti wifiMulti;     // Create an instance of the ESP8266WiFiMulti class, called 'wifiMulti'\n",
        "\n",
        "void setup() {\n",
        "  Serial.begin(115200);         // Start the Serial communication to send messages to the computer\n",
        "  delay(10);\n",
        "  Serial.println('\\n');\n",
        "\n",
        "  wifiMulti.addAP(\"ssid_from_AP_1\", \"your_password_for_AP_1\");   // add Wi-Fi networks you want to connect to\n",
        "  wifiMulti.addAP(\"ssid_from_AP_2\", \"your_password_for_AP_2\");\n",
        "  wifiMulti.addAP(\"ssid_from_AP_3\", \"your_password_for_AP_3\");\n",
        "\n",
        "  Serial.println(\"Connecting ...\");\n",
        "  int i = 0;\n",
        "  while (wifiMulti.run() != WL_CONNECTED) { // Wait for the Wi-Fi to connect: scan for Wi-Fi networks, and connect to the strongest of the networks above\n",
        "    delay(1000);\n",
        "    Serial.print('.');\n",
        "  }\n",
        "  Serial.println('\\n');\n",
        "  Serial.print(\"Connected to \");\n",
        "  Serial.println(WiFi.SSID());              // Tell us what network we're connected to\n",
        "  Serial.print(\"IP address:\\t\");\n",
        "  Serial.println(WiFi.localIP());           // Send the IP address of the ESP8266 to the computer\n",
        "}\n",
        "\n",
        "void loop() { }"
      ],
      "execution_count": 0,
      "outputs": []
    },
    {
      "cell_type": "markdown",
      "metadata": {
        "id": "pp6DmBtzR8KW",
        "colab_type": "text"
      },
      "source": [
        "\n",
        "\n",
        "---\n",
        "\n"
      ]
    },
    {
      "cell_type": "markdown",
      "metadata": {
        "id": "lTAhg2pUOYQb",
        "colab_type": "text"
      },
      "source": [
        "## Praktikum 6 - Kirim Data UDP ke NodeMCU\n",
        "\n",
        "---\n",
        "\n",
        "Jalankan program berikut dan amati hasilnya di serial monitor !"
      ]
    },
    {
      "cell_type": "code",
      "metadata": {
        "id": "tVg7GKE_PJsl",
        "colab_type": "code",
        "colab": {}
      },
      "source": [
        "#include <ESP8266WiFi.h>\n",
        "#include <WiFiUdp.h>\n",
        "\n",
        "const char* ssid = \"********\";\n",
        "const char* password = \"********\";\n",
        "\n",
        "WiFiUDP Udp;\n",
        "unsigned int localUdpPort = 4210;  // local port to listen on\n",
        "char incomingPacket[255];  // buffer for incoming packets\n",
        "char  replyPacket[] = \"Hi there! Got the message :-)\";  // a reply string to send back\n",
        "\n",
        "\n",
        "void setup()\n",
        "{\n",
        "  Serial.begin(115200);\n",
        "  Serial.println();\n",
        "\n",
        "  Serial.printf(\"Connecting to %s \", ssid);\n",
        "  WiFi.begin(ssid, password);\n",
        "  while (WiFi.status() != WL_CONNECTED)\n",
        "  {\n",
        "    delay(500);\n",
        "    Serial.print(\".\");\n",
        "  }\n",
        "  Serial.println(\" connected\");\n",
        "\n",
        "  Udp.begin(localUdpPort);\n",
        "  Serial.printf(\"Now listening at IP %s, UDP port %d\\n\", WiFi.localIP().toString().c_str(), localUdpPort);\n",
        "}\n",
        "\n",
        "\n",
        "void loop()\n",
        "{\n",
        "  int packetSize = Udp.parsePacket();\n",
        "  if (packetSize)\n",
        "  {\n",
        "    // receive incoming UDP packets\n",
        "    Serial.printf(\"Received %d bytes from %s, port %d\\n\", packetSize, Udp.remoteIP().toString().c_str(), Udp.remotePort());\n",
        "    int len = Udp.read(incomingPacket, 255);\n",
        "    if (len > 0)\n",
        "    {\n",
        "      incomingPacket[len] = 0;\n",
        "    }\n",
        "    Serial.printf(\"UDP packet contents: %s\\n\", incomingPacket);\n",
        "\n",
        "    // send back a reply, to the IP address and port we got the packet from\n",
        "    Udp.beginPacket(Udp.remoteIP(), Udp.remotePort());\n",
        "    Udp.write(replyPacket);\n",
        "    Udp.endPacket();\n",
        "  }\n",
        "}"
      ],
      "execution_count": 0,
      "outputs": []
    },
    {
      "cell_type": "markdown",
      "metadata": {
        "id": "7kS-6sq4PKiL",
        "colab_type": "text"
      },
      "source": [
        "<p align=\"justify\">Setelah program di atas dijalankan, kirimkan beberapa paket data UDP menggunakan software Packet Sender yang sudah diinstall di komputer Anda . Lakukan konfigurasi seperti tampilan pada Gambar di bawah ini! Dan amati hasilnya melalui serial monitor NodeMCU</p>\n",
        "\n",
        "![alt text](https://arduino-esp8266.readthedocs.io/en/latest/_images/udp-packet-sender.png)\n",
        "\n",
        "<p align=\"justify\">Klik tautan di bawah ini untuk mendownload Packet Sender!</p>\n",
        "\n",
        "[Download Packet Sender](https://packetsender.com/download)"
      ]
    },
    {
      "cell_type": "markdown",
      "metadata": {
        "id": "etTKnat5SCO4",
        "colab_type": "text"
      },
      "source": [
        "\n",
        "\n",
        "---\n",
        "\n"
      ]
    },
    {
      "cell_type": "markdown",
      "metadata": {
        "id": "jp1nQSLEQKnR",
        "colab_type": "text"
      },
      "source": [
        "## Praktikum 7 - ESP8266 Arduino IDE – Mesh network dengan PainlessMesh\n",
        "\n",
        "---\n",
        "\n",
        "![alt text](https://www.warriornux.com/wp-content/uploads/2019/05/42.-Mesh-Network-ESP8266-PainlessMesh.png)\n",
        "\n",
        "**Apa itu Mesh Network ?**\n",
        "\n",
        "<p align=\"justify\">Mesh Network/Topologi mesh merupakan sebuah bentuk dari topologi jaringan komputer yang menghubungkan antara satu node degan node lainnya, didalam jaringan tersebut. Hubungan antar node ini akan membentuk sebuah rangkaian yang menyerupai jaring</p>\n",
        "\n",
        "![alt text](https://www.warriornux.com/wp-content/uploads/2019/05/Mesh-Network.jpg)\n",
        "\n",
        "<p align=\"justify\">Topologi ini tidak membutuhkan dedicated links (perantara), setiap node akan saling berhubungan satu sama lainnya sehingga pada waktu yang sama akan terbentuk sebuah komunikasi langsung. Dikarenakan Komunikasinya terhubung secara langsung, maka apabila ada satu node yang mati, maka tidak akan berpengaruh pada node yang lainnya.</p>\n",
        "\n",
        "![alt text](https://www.warriornux.com/wp-content/uploads/2019/05/mesh-network-1.jpg)\n",
        "\n",
        "<p align=\"justify\">Dengan begini sistem komunikasi akan tetap terus berjalan dengan lancar dengan memanfaatkan node lain yang masih terhubung dengan jaringan yang sama.</p>\n",
        "\n",
        "**Konsep Percobaan**\n",
        "  \n",
        "<p align=\"justify\">Kita sudah mengulas sedikit mengenai topologi mesh tersebut, sekarang kita akan coba untuk membuat sebuah jaringan mesh dengan menggunakan NodeMCU/ESP8266 dan Library Painlessmesh.</p>\n",
        "\n",
        "<p align=\"justify\">Kita akan coba menggunakan program sederhana yaitu StartHere, dimana program ini nantinya akan menjalankan mesh, dan menghidupkan indikator led gpio 2 pada nodemcu ketika ada node lain yang terhubung. Sehingga led akan berkedip sesuai dengan jumlah node yang ada.</p>\n",
        "\n",
        "<p align=\"justify\">Berikut merupakan ilustrasi konsep yang akan dibuat pada percobaan ini.</p>\n",
        "\n",
        "![alt text](https://www.warriornux.com/wp-content/uploads/2019/05/1.-Ilustrasi-PainlessMesh-1024x469.png)\n",
        "\n",
        "<p align=\"justify\">Pada ilustrasi tersebut bisa kita lihat ada 3 node yang nanti akan dimatikan satu persatu sehingga led akan menentukan jumlah node nya.</p>\n",
        "\n",
        "Unduh library-nya, import ke dalam Arduino IDE, jalankan kode program di atas dan amati hasilnya!\n",
        "\n",
        "[lDownload LIbrary PainlessMesh](https://gitlab.com/painlessMesh/painlessMesh)\n"
      ]
    },
    {
      "cell_type": "code",
      "metadata": {
        "id": "BK0E5lSLRN2K",
        "colab_type": "code",
        "colab": {}
      },
      "source": [
        "#include <painlessMesh.h>\n",
        "\n",
        "// Define Pin GPIO dengan nama -----------------------------------\n",
        "#define LED  2   //GPIO untuk blink\n",
        "\n",
        "// Define untuk timing led indikator -----------------------------\n",
        "#define   BLINK_PERIOD    3000 // milliseconds until cycle repeat\n",
        "#define   BLINK_DURATION  100  // milliseconds LED is on for\n",
        "\n",
        "// Define untuk koneksi dan port jaringan ------------------------\n",
        "#define   MESH_SSID       \"warriornux.com\"\n",
        "#define   MESH_PASSWORD   \"1234567890\"\n",
        "#define   MESH_PORT       5555\n",
        "\n",
        "// Prototypes ----------------------------------------------------\n",
        "void sendMessage(); \n",
        "void receivedCallback(uint32_t from, String & msg);\n",
        "void newConnectionCallback(uint32_t nodeId);\n",
        "void changedConnectionCallback(); \n",
        "void nodeTimeAdjustedCallback(int32_t offset); \n",
        "void delayReceivedCallback(uint32_t from, int32_t delay);\n",
        "\n",
        "// Mengontrol Personal Task dan memanggil library painlessmesh ---\n",
        "Scheduler     userScheduler;\n",
        "painlessMesh  mesh;\n",
        "\n",
        "bool calc_delay = false;\n",
        "SimpleList<uint32_t> nodes;\n",
        "\n",
        "// Mejalankan perintah untuk mengirim pesan ----------------------\n",
        "void sendMessage() ; // Prototype\n",
        "Task taskSendMessage( TASK_SECOND * 1, TASK_FOREVER, &sendMessage ); // start with a one second interval\n",
        "\n",
        "// Task untuk menjalankan indikator sesuai jumlah node -----------\n",
        "Task blinkNoNodes;\n",
        "bool onFlag = false;\n",
        "\n",
        "void setup() {\n",
        "  Serial.begin(115200);\n",
        "\n",
        "  pinMode(LED, OUTPUT);\n",
        "\n",
        "// Untuk menampilkan log pesan mesh di serial --------------------\n",
        "  mesh.setDebugMsgTypes(ERROR | DEBUG | CONNECTION);  // set before init() so that you can see startup messages\n",
        "\n",
        "// Menjalankan Program dari Mesh Network --------------------------\n",
        "  mesh.init(MESH_SSID, MESH_PASSWORD, &userScheduler, MESH_PORT);\n",
        "  mesh.onReceive(&receivedCallback);\n",
        "  mesh.onNewConnection(&newConnectionCallback);\n",
        "  mesh.onChangedConnections(&changedConnectionCallback);\n",
        "  mesh.onNodeTimeAdjusted(&nodeTimeAdjustedCallback);\n",
        "  mesh.onNodeDelayReceived(&delayReceivedCallback);\n",
        "\n",
        "// Mengaktifkan Schedule untuk mengirim pesan ---------------------\n",
        "  userScheduler.addTask( taskSendMessage );\n",
        "  taskSendMessage.enable();\n",
        "\n",
        "// Mengaktifkan parameter pada led indikator ----------------------\n",
        "// dengan menyesuaikan dengan node yang aktif ---------------------\n",
        "  blinkNoNodes.set(BLINK_PERIOD, (mesh.getNodeList().size() + 1) * 2, []() {\n",
        "      // If on, switch off, else switch on\n",
        "      if (onFlag)\n",
        "        onFlag = false;\n",
        "      else\n",
        "        onFlag = true;\n",
        "      blinkNoNodes.delay(BLINK_DURATION);\n",
        "\n",
        "      if (blinkNoNodes.isLastIteration()) {\n",
        "        // Finished blinking. Reset task for next run \n",
        "        // blink number of nodes (including this node) times\n",
        "        blinkNoNodes.setIterations((mesh.getNodeList().size() + 1) * 2);\n",
        "        // Calculate delay based on current mesh time and BLINK_PERIOD\n",
        "        // This results in blinks between nodes being synced\n",
        "        blinkNoNodes.enableDelayed(BLINK_PERIOD - \n",
        "            (mesh.getNodeTime() % (BLINK_PERIOD*1000))/1000);\n",
        "      }\n",
        "  });\n",
        "  userScheduler.addTask(blinkNoNodes);\n",
        "  blinkNoNodes.enable();\n",
        "\n",
        "  randomSeed(analogRead(A0));\n",
        "}\n",
        "\n",
        "void loop() {\n",
        "// Menjalankan scheduler dan mesh untuk update -----------------------------\n",
        "  userScheduler.execute(); // it will run mesh scheduler as well\n",
        "  mesh.update();\n",
        "\n",
        "// Menjalankan LED Indikator -----------------------------------------------\n",
        "  digitalWrite(LED, !onFlag);\n",
        "  \n",
        "}\n",
        "\n",
        "// void untuk mengirim pesan ke node lain -----------------------------------\n",
        "void sendMessage() {\n",
        "  String msg = \"Hello from node \";\n",
        "  msg += mesh.getNodeId();\n",
        "  msg += \" myFreeMemory: \" + String(ESP.getFreeHeap());\n",
        "  mesh.sendBroadcast(msg);\n",
        "\n",
        "  if (calc_delay) {\n",
        "    SimpleList<uint32_t>::iterator node = nodes.begin();\n",
        "    while (node != nodes.end()) {\n",
        "      mesh.startDelayMeas(*node);\n",
        "      node++;\n",
        "    }\n",
        "    calc_delay = false;\n",
        "  }\n",
        "\n",
        "  Serial.printf(\"Sending message: %s\\n\", msg.c_str());\n",
        "  \n",
        "  taskSendMessage.setInterval( random(TASK_SECOND * 1, TASK_SECOND * 5));  // between 1 and 5 seconds\n",
        "}\n",
        "\n",
        "// void untuk meminta callback pesan dari node lain ---------------------------\n",
        "void receivedCallback(uint32_t from, String & msg) {\n",
        "  Serial.printf(\"startHere: Received from %u msg=%s\\n\", from, msg.c_str());\n",
        "}\n",
        "\n",
        "// \n",
        "void newConnectionCallback(uint32_t nodeId) {\n",
        "  // Reset blink task\n",
        "  onFlag = false;\n",
        "  blinkNoNodes.setIterations((mesh.getNodeList().size() + 1) * 2);\n",
        "  blinkNoNodes.enableDelayed(BLINK_PERIOD - (mesh.getNodeTime() % (BLINK_PERIOD*1000))/1000);\n",
        " \n",
        "  Serial.printf(\"--> startHere: New Connection, nodeId = %u\\n\", nodeId);\n",
        "}\n",
        "\n",
        "// void untuk menginformasikan koneksi ketika berpindah ------------------------\n",
        "void changedConnectionCallback() {\n",
        "  Serial.printf(\"Changed connections %s\\n\", mesh.subConnectionJson().c_str());\n",
        "  // Reset blink task\n",
        "  onFlag = false;\n",
        "  blinkNoNodes.setIterations((mesh.getNodeList().size() + 1) * 2);\n",
        "  blinkNoNodes.enableDelayed(BLINK_PERIOD - (mesh.getNodeTime() % (BLINK_PERIOD*1000))/1000);\n",
        " \n",
        "  nodes = mesh.getNodeList();\n",
        "\n",
        "  Serial.printf(\"Num nodes: %d\\n\", nodes.size());\n",
        "  Serial.printf(\"Connection list:\");\n",
        "\n",
        "  SimpleList<uint32_t>::iterator node = nodes.begin();\n",
        "  while (node != nodes.end()) {\n",
        "    Serial.printf(\" %u\", *node);\n",
        "    node++;\n",
        "  }\n",
        "  Serial.println();\n",
        "  calc_delay = true;\n",
        "}\n",
        "\n",
        "void nodeTimeAdjustedCallback(int32_t offset) {\n",
        "  Serial.printf(\"Adjusted time %u. Offset = %d\\n\", mesh.getNodeTime(), offset);\n",
        "}\n",
        "\n",
        "void delayReceivedCallback(uint32_t from, int32_t delay) {\n",
        "  Serial.printf(\"Delay to node %u is %d us\\n\", from, delay);\n",
        "}"
      ],
      "execution_count": 0,
      "outputs": []
    },
    {
      "cell_type": "markdown",
      "metadata": {
        "id": "4LDovR__RRf1",
        "colab_type": "text"
      },
      "source": [
        "\n",
        "\n",
        "---\n",
        "\n"
      ]
    },
    {
      "cell_type": "markdown",
      "metadata": {
        "id": "iXBgQAwHQ3bT",
        "colab_type": "text"
      },
      "source": [
        "# Referensi\n",
        "\n",
        "\n",
        "*   http://blog.unnes.ac.id/satriawahyu19/2016/11/05/pengantar-wlan/\n",
        "*   https://itwae.blogspot.com/2018/01/perbedaan-wifi-ieee-80211-abgnacad.html\n",
        "*   https://www.siranap.com/penjelasan-singkat-tentang-kode-802-11-abgnac-pada-perangkat-wifi/\n",
        "*   http://mikrotik.co.id/artikel_lihat.php?id=70\n",
        "*   https://citraweb.com/artikel_lihat.php?id=144\n",
        "*   https://id.wikipedia.org/wiki/Wi-Fi#Mode_Akses_Koneksi_Wi-fi\n",
        "*   https://tttapa.github.io/ESP8266/Chap05%20-%20Network%20Protocols.html\n",
        "*   http://www.fedu.uec.ac.jp/~thavisak/Tech-Link/IEEE802.11b/IEEE80211b.htm\n",
        "*   https://www.geekstips.com/two-esp8266-communication-talk-each-other/\n",
        "*   https://embeddednesia.com/v1/tutorial-nodemcu-pertemuan-pertama/\n",
        "*   https://www.theengineeringprojects.com/2018/06/introduction-to-arduino-nano.html\n",
        "*   https://www.warriornux.com/esp8266-arduino-ide-hostspotaccess-point-mode/\n",
        "*   https://www.warriornux.com/esp8266-arduino-ide-wifi-station-mode/\n",
        "*   https://www.warriornux.com/esp8266-arduino-ide-both-mode-wifi-station-aphotspot/\n",
        "*   https://arduino-esp8266.readthedocs.io/en/latest/esp8266wifi/readme.html#station\n",
        "\n"
      ]
    }
  ]
}