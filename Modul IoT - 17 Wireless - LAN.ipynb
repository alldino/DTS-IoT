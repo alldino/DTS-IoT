{
  "nbformat": 4,
  "nbformat_minor": 0,
  "metadata": {
    "colab": {
      "name": "Modul IoT - 17 Wireless - LAN.ipynb",
      "version": "0.3.2",
      "provenance": [],
      "collapsed_sections": []
    },
    "kernelspec": {
      "name": "python3",
      "display_name": "Python 3"
    }
  },
  "cells": [
    {
      "cell_type": "markdown",
      "metadata": {
        "id": "xJx6THv7b3ke",
        "colab_type": "text"
      },
      "source": [
        "# Modul IoT - 17 - Wireless & LAN\n",
        "\n"
      ]
    }
  ]
}