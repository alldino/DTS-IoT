{
  "nbformat": 4,
  "nbformat_minor": 0,
  "metadata": {
    "colab": {
      "name": "Modul IoT - 17 Wireless - LAN.ipynb",
      "version": "0.3.2",
      "provenance": [],
      "collapsed_sections": []
    },
    "kernelspec": {
      "name": "python3",
      "display_name": "Python 3"
    }
  },
  "cells": [
    {
      "cell_type": "markdown",
      "metadata": {
        "id": "xJx6THv7b3ke",
        "colab_type": "text"
      },
      "source": [
        "# Modul IoT - 17 - Wireless - LAN\n",
        "\n",
        "---"
      ]
    },
    {
      "cell_type": "markdown",
      "metadata": {
        "id": "n5VoyLnHLxkT",
        "colab_type": "text"
      },
      "source": [
        "## Pengertian LAN (Local Area Network)\n",
        "\n",
        "---\n",
        "<p align=\"justify\">LAN atau kepanjangan dari Local Area Network merupakan sekumpulan komputer yang saling terhubung antara satu dengan lainnya sehingga terbentuk sebuah jaringan komputer dengan cakupan jaringan yang wilayahnya kecil seperti jaringan komputer gedung, kampus, kantor, sekolah, di dalam rumah, atau di dalam satu ruangan.</p>\n",
        "\n",
        "## Pengertian WLAN (Wireless Local Area Network)\n",
        "\n",
        "---\n",
        "<p align=\"justify\">Pada dasarnya wireless dengan LAN merupakan sama-sama jaringan komputer yang saling terhubung antara satu dengan lainnya, yang membedakan antara keduanya adalah media jalur lintas data yang digunakan, jika LAN masih menggunakan kabel sebagai media lintas data, sedangkan wireless menggunakan media gelombang radio/udara. Penerapan dari aplikasi wireless network ini antara lain adalah jaringan nirkabel diperusahaan, atau mobile communication seperti handphone, satelit dan HT.</p>"
      ]
    },
    {
      "cell_type": "markdown",
      "metadata": {
        "id": "iXBgQAwHQ3bT",
        "colab_type": "text"
      },
      "source": [
        "# Referensi\n",
        "\n",
        "\n",
        "\n",
        "*   http://blog.unnes.ac.id/satriawahyu19/2016/11/05/pengantar-wlan/\n",
        "*   List item\n",
        "\n"
      ]
    }
  ]
}